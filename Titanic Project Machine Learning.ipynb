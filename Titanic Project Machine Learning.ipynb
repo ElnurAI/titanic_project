{
 "cells": [
  {
   "cell_type": "markdown",
   "id": "917caf1e",
   "metadata": {},
   "source": [
    "# FINAL EXAM- MACHINE LEARNING"
   ]
  },
  {
   "cell_type": "markdown",
   "id": "e59a5e1c",
   "metadata": {},
   "source": [
    "1. Exploratory Data Analysis (15 points)\n",
    "2. Data Preprocessing & Feature Engineering (15 Points)\n",
    "3. Base Models(10 Points)\n",
    "4. Automated Hyperparameter Optimization (10 Points)\n",
    "5. Stacking & Ensemble Learning (20 Points)\n",
    "6. Prediction for a New Observation (20 Points)\n",
    "7. Scores (10 Points)"
   ]
  },
  {
   "cell_type": "markdown",
   "id": "0513f830",
   "metadata": {},
   "source": [
    "### Import Libraries"
   ]
  },
  {
   "cell_type": "code",
   "execution_count": 1,
   "id": "fe283c82",
   "metadata": {},
   "outputs": [],
   "source": [
    "import warnings\n",
    "import numpy as np\n",
    "import pandas as pd\n",
    "import seaborn as sns\n",
    "import matplotlib.pyplot as plt\n",
    "\n",
    "# import xgboost\n",
    "from sklearn import preprocessing \n",
    "from sklearn.linear_model import LogisticRegression\n",
    "from sklearn.tree import DecisionTreeClassifier\n",
    "from sklearn.neighbors import KNeighborsClassifier\n",
    "from sklearn.svm import SVC, LinearSVC\n",
    "from sklearn.naive_bayes import GaussianNB\n",
    "from lightgbm import LGBMClassifier\n",
    "from xgboost import XGBClassifier\n",
    "from sklearn.metrics import classification_report, confusion_matrix, roc_auc_score\n",
    "from sklearn.model_selection import cross_validate, cross_val_score, validation_curve, train_test_split, GridSearchCV\n",
    "from sklearn.ensemble import RandomForestClassifier, GradientBoostingClassifier, VotingClassifier, AdaBoostClassifier, StackingClassifier\n",
    "\n",
    "pd.set_option('display.max_rows', 700)\n",
    "pd.set_option('display.max_columns', 700)\n",
    "pd.set_option('display.width', 700)\n",
    "warnings.simplefilter(action='ignore', category=Warning)"
   ]
  },
  {
   "cell_type": "markdown",
   "id": "23b40b65",
   "metadata": {},
   "source": [
    "### Read Dataset"
   ]
  },
  {
   "cell_type": "code",
   "execution_count": 2,
   "id": "256dd838",
   "metadata": {
    "scrolled": true
   },
   "outputs": [],
   "source": [
    "df_train = pd.read_csv('train.csv')\n",
    "df_test = pd.read_csv('test.csv')"
   ]
  },
  {
   "cell_type": "code",
   "execution_count": 3,
   "id": "4129a682",
   "metadata": {
    "scrolled": true
   },
   "outputs": [
    {
     "data": {
      "text/html": [
       "<div>\n",
       "<style scoped>\n",
       "    .dataframe tbody tr th:only-of-type {\n",
       "        vertical-align: middle;\n",
       "    }\n",
       "\n",
       "    .dataframe tbody tr th {\n",
       "        vertical-align: top;\n",
       "    }\n",
       "\n",
       "    .dataframe thead th {\n",
       "        text-align: right;\n",
       "    }\n",
       "</style>\n",
       "<table border=\"1\" class=\"dataframe\">\n",
       "  <thead>\n",
       "    <tr style=\"text-align: right;\">\n",
       "      <th></th>\n",
       "      <th>PassengerId</th>\n",
       "      <th>Survived</th>\n",
       "      <th>Pclass</th>\n",
       "      <th>Name</th>\n",
       "      <th>Sex</th>\n",
       "      <th>Age</th>\n",
       "      <th>SibSp</th>\n",
       "      <th>Parch</th>\n",
       "      <th>Ticket</th>\n",
       "      <th>Fare</th>\n",
       "      <th>Cabin</th>\n",
       "      <th>Embarked</th>\n",
       "    </tr>\n",
       "  </thead>\n",
       "  <tbody>\n",
       "    <tr>\n",
       "      <th>0</th>\n",
       "      <td>1</td>\n",
       "      <td>0</td>\n",
       "      <td>3</td>\n",
       "      <td>Braund, Mr. Owen Harris</td>\n",
       "      <td>male</td>\n",
       "      <td>22.0</td>\n",
       "      <td>1</td>\n",
       "      <td>0</td>\n",
       "      <td>A/5 21171</td>\n",
       "      <td>7.2500</td>\n",
       "      <td>NaN</td>\n",
       "      <td>S</td>\n",
       "    </tr>\n",
       "    <tr>\n",
       "      <th>1</th>\n",
       "      <td>2</td>\n",
       "      <td>1</td>\n",
       "      <td>1</td>\n",
       "      <td>Cumings, Mrs. John Bradley (Florence Briggs Th...</td>\n",
       "      <td>female</td>\n",
       "      <td>38.0</td>\n",
       "      <td>1</td>\n",
       "      <td>0</td>\n",
       "      <td>PC 17599</td>\n",
       "      <td>71.2833</td>\n",
       "      <td>C85</td>\n",
       "      <td>C</td>\n",
       "    </tr>\n",
       "    <tr>\n",
       "      <th>2</th>\n",
       "      <td>3</td>\n",
       "      <td>1</td>\n",
       "      <td>3</td>\n",
       "      <td>Heikkinen, Miss. Laina</td>\n",
       "      <td>female</td>\n",
       "      <td>26.0</td>\n",
       "      <td>0</td>\n",
       "      <td>0</td>\n",
       "      <td>STON/O2. 3101282</td>\n",
       "      <td>7.9250</td>\n",
       "      <td>NaN</td>\n",
       "      <td>S</td>\n",
       "    </tr>\n",
       "    <tr>\n",
       "      <th>3</th>\n",
       "      <td>4</td>\n",
       "      <td>1</td>\n",
       "      <td>1</td>\n",
       "      <td>Futrelle, Mrs. Jacques Heath (Lily May Peel)</td>\n",
       "      <td>female</td>\n",
       "      <td>35.0</td>\n",
       "      <td>1</td>\n",
       "      <td>0</td>\n",
       "      <td>113803</td>\n",
       "      <td>53.1000</td>\n",
       "      <td>C123</td>\n",
       "      <td>S</td>\n",
       "    </tr>\n",
       "    <tr>\n",
       "      <th>4</th>\n",
       "      <td>5</td>\n",
       "      <td>0</td>\n",
       "      <td>3</td>\n",
       "      <td>Allen, Mr. William Henry</td>\n",
       "      <td>male</td>\n",
       "      <td>35.0</td>\n",
       "      <td>0</td>\n",
       "      <td>0</td>\n",
       "      <td>373450</td>\n",
       "      <td>8.0500</td>\n",
       "      <td>NaN</td>\n",
       "      <td>S</td>\n",
       "    </tr>\n",
       "  </tbody>\n",
       "</table>\n",
       "</div>"
      ],
      "text/plain": [
       "   PassengerId  Survived  Pclass                                               Name     Sex   Age  SibSp  Parch            Ticket     Fare Cabin Embarked\n",
       "0            1         0       3                            Braund, Mr. Owen Harris    male  22.0      1      0         A/5 21171   7.2500   NaN        S\n",
       "1            2         1       1  Cumings, Mrs. John Bradley (Florence Briggs Th...  female  38.0      1      0          PC 17599  71.2833   C85        C\n",
       "2            3         1       3                             Heikkinen, Miss. Laina  female  26.0      0      0  STON/O2. 3101282   7.9250   NaN        S\n",
       "3            4         1       1       Futrelle, Mrs. Jacques Heath (Lily May Peel)  female  35.0      1      0            113803  53.1000  C123        S\n",
       "4            5         0       3                           Allen, Mr. William Henry    male  35.0      0      0            373450   8.0500   NaN        S"
      ]
     },
     "execution_count": 3,
     "metadata": {},
     "output_type": "execute_result"
    }
   ],
   "source": [
    "df_train.head()"
   ]
  },
  {
   "cell_type": "code",
   "execution_count": 4,
   "id": "ec1efe9b",
   "metadata": {
    "scrolled": false
   },
   "outputs": [
    {
     "data": {
      "text/html": [
       "<div>\n",
       "<style scoped>\n",
       "    .dataframe tbody tr th:only-of-type {\n",
       "        vertical-align: middle;\n",
       "    }\n",
       "\n",
       "    .dataframe tbody tr th {\n",
       "        vertical-align: top;\n",
       "    }\n",
       "\n",
       "    .dataframe thead th {\n",
       "        text-align: right;\n",
       "    }\n",
       "</style>\n",
       "<table border=\"1\" class=\"dataframe\">\n",
       "  <thead>\n",
       "    <tr style=\"text-align: right;\">\n",
       "      <th></th>\n",
       "      <th>PassengerId</th>\n",
       "      <th>Pclass</th>\n",
       "      <th>Name</th>\n",
       "      <th>Sex</th>\n",
       "      <th>Age</th>\n",
       "      <th>SibSp</th>\n",
       "      <th>Parch</th>\n",
       "      <th>Ticket</th>\n",
       "      <th>Fare</th>\n",
       "      <th>Cabin</th>\n",
       "      <th>Embarked</th>\n",
       "    </tr>\n",
       "  </thead>\n",
       "  <tbody>\n",
       "    <tr>\n",
       "      <th>0</th>\n",
       "      <td>892</td>\n",
       "      <td>3</td>\n",
       "      <td>Kelly, Mr. James</td>\n",
       "      <td>male</td>\n",
       "      <td>34.5</td>\n",
       "      <td>0</td>\n",
       "      <td>0</td>\n",
       "      <td>330911</td>\n",
       "      <td>7.8292</td>\n",
       "      <td>NaN</td>\n",
       "      <td>Q</td>\n",
       "    </tr>\n",
       "    <tr>\n",
       "      <th>1</th>\n",
       "      <td>893</td>\n",
       "      <td>3</td>\n",
       "      <td>Wilkes, Mrs. James (Ellen Needs)</td>\n",
       "      <td>female</td>\n",
       "      <td>47.0</td>\n",
       "      <td>1</td>\n",
       "      <td>0</td>\n",
       "      <td>363272</td>\n",
       "      <td>7.0000</td>\n",
       "      <td>NaN</td>\n",
       "      <td>S</td>\n",
       "    </tr>\n",
       "    <tr>\n",
       "      <th>2</th>\n",
       "      <td>894</td>\n",
       "      <td>2</td>\n",
       "      <td>Myles, Mr. Thomas Francis</td>\n",
       "      <td>male</td>\n",
       "      <td>62.0</td>\n",
       "      <td>0</td>\n",
       "      <td>0</td>\n",
       "      <td>240276</td>\n",
       "      <td>9.6875</td>\n",
       "      <td>NaN</td>\n",
       "      <td>Q</td>\n",
       "    </tr>\n",
       "    <tr>\n",
       "      <th>3</th>\n",
       "      <td>895</td>\n",
       "      <td>3</td>\n",
       "      <td>Wirz, Mr. Albert</td>\n",
       "      <td>male</td>\n",
       "      <td>27.0</td>\n",
       "      <td>0</td>\n",
       "      <td>0</td>\n",
       "      <td>315154</td>\n",
       "      <td>8.6625</td>\n",
       "      <td>NaN</td>\n",
       "      <td>S</td>\n",
       "    </tr>\n",
       "    <tr>\n",
       "      <th>4</th>\n",
       "      <td>896</td>\n",
       "      <td>3</td>\n",
       "      <td>Hirvonen, Mrs. Alexander (Helga E Lindqvist)</td>\n",
       "      <td>female</td>\n",
       "      <td>22.0</td>\n",
       "      <td>1</td>\n",
       "      <td>1</td>\n",
       "      <td>3101298</td>\n",
       "      <td>12.2875</td>\n",
       "      <td>NaN</td>\n",
       "      <td>S</td>\n",
       "    </tr>\n",
       "  </tbody>\n",
       "</table>\n",
       "</div>"
      ],
      "text/plain": [
       "   PassengerId  Pclass                                          Name     Sex   Age  SibSp  Parch   Ticket     Fare Cabin Embarked\n",
       "0          892       3                              Kelly, Mr. James    male  34.5      0      0   330911   7.8292   NaN        Q\n",
       "1          893       3              Wilkes, Mrs. James (Ellen Needs)  female  47.0      1      0   363272   7.0000   NaN        S\n",
       "2          894       2                     Myles, Mr. Thomas Francis    male  62.0      0      0   240276   9.6875   NaN        Q\n",
       "3          895       3                              Wirz, Mr. Albert    male  27.0      0      0   315154   8.6625   NaN        S\n",
       "4          896       3  Hirvonen, Mrs. Alexander (Helga E Lindqvist)  female  22.0      1      1  3101298  12.2875   NaN        S"
      ]
     },
     "execution_count": 4,
     "metadata": {},
     "output_type": "execute_result"
    }
   ],
   "source": [
    "df_test.head()"
   ]
  },
  {
   "cell_type": "code",
   "execution_count": 5,
   "id": "06230c65",
   "metadata": {},
   "outputs": [],
   "source": [
    "def drop_columns(dataframe, columns):\n",
    "    \n",
    "    dataframe.drop(columns, axis=1, inplace=True)\n",
    "    print(dataframe.head(), end=\"\\n\\n\\n\")"
   ]
  },
  {
   "cell_type": "code",
   "execution_count": 6,
   "id": "bcc76b05",
   "metadata": {},
   "outputs": [
    {
     "name": "stdout",
     "output_type": "stream",
     "text": [
      "   Survived  Pclass     Sex   Age  SibSp  Parch     Fare Embarked\n",
      "0         0       3    male  22.0      1      0   7.2500        S\n",
      "1         1       1  female  38.0      1      0  71.2833        C\n",
      "2         1       3  female  26.0      0      0   7.9250        S\n",
      "3         1       1  female  35.0      1      0  53.1000        S\n",
      "4         0       3    male  35.0      0      0   8.0500        S\n",
      "\n",
      "\n",
      "   Pclass     Sex   Age  SibSp  Parch     Fare Embarked\n",
      "0       3    male  34.5      0      0   7.8292        Q\n",
      "1       3  female  47.0      1      0   7.0000        S\n",
      "2       2    male  62.0      0      0   9.6875        Q\n",
      "3       3    male  27.0      0      0   8.6625        S\n",
      "4       3  female  22.0      1      1  12.2875        S\n",
      "\n",
      "\n"
     ]
    }
   ],
   "source": [
    "drop_columns(df_train, [\"PassengerId\", \"Name\", \"Ticket\", \"Cabin\"])\n",
    "drop_columns(df_test, [\"PassengerId\", \"Name\", \"Ticket\", \"Cabin\"])"
   ]
  },
  {
   "cell_type": "markdown",
   "id": "b292cd9a",
   "metadata": {},
   "source": [
    "### Exploratory Data Analysis"
   ]
  },
  {
   "cell_type": "code",
   "execution_count": 7,
   "id": "daff0288",
   "metadata": {},
   "outputs": [],
   "source": [
    "def quick_check_data(dataframe, nRows):\n",
    "    \n",
    "    print(\"################### SHAPE ###################\")\n",
    "    print(dataframe.shape, end='\\n\\n\\n')\n",
    "    \n",
    "    print(\"################### INFO ###################\")\n",
    "    print(dataframe.info(), end='\\n\\n\\n')\n",
    "    \n",
    "    print(\"################### UNIQUE COUNTS ###################\")\n",
    "    for col in dataframe.columns:\n",
    "        print(f\"   {col} - {dataframe[col].nunique()}\", end='\\n')\n",
    "    print(end='\\n\\n')\n",
    "    \n",
    "    print(\"################### NULL COUNT ###################\")\n",
    "    print(dataframe.isnull().sum(), end='\\n\\n\\n')\n",
    "    \n",
    "    print(\"################### DESCRIBE ###################\")\n",
    "    print(dataframe.describe([0, 0.05, 0.25, 0.5, 0.75, 0.95, 1]).T, end='\\n\\n\\n')\n",
    "    "
   ]
  },
  {
   "cell_type": "code",
   "execution_count": 8,
   "id": "b92765a2",
   "metadata": {},
   "outputs": [
    {
     "name": "stdout",
     "output_type": "stream",
     "text": [
      "################### SHAPE ###################\n",
      "(891, 8)\n",
      "\n",
      "\n",
      "################### INFO ###################\n",
      "<class 'pandas.core.frame.DataFrame'>\n",
      "RangeIndex: 891 entries, 0 to 890\n",
      "Data columns (total 8 columns):\n",
      " #   Column    Non-Null Count  Dtype  \n",
      "---  ------    --------------  -----  \n",
      " 0   Survived  891 non-null    int64  \n",
      " 1   Pclass    891 non-null    int64  \n",
      " 2   Sex       891 non-null    object \n",
      " 3   Age       714 non-null    float64\n",
      " 4   SibSp     891 non-null    int64  \n",
      " 5   Parch     891 non-null    int64  \n",
      " 6   Fare      891 non-null    float64\n",
      " 7   Embarked  889 non-null    object \n",
      "dtypes: float64(2), int64(4), object(2)\n",
      "memory usage: 55.8+ KB\n",
      "None\n",
      "\n",
      "\n",
      "################### UNIQUE COUNTS ###################\n",
      "   Survived - 2\n",
      "   Pclass - 3\n",
      "   Sex - 2\n",
      "   Age - 88\n",
      "   SibSp - 7\n",
      "   Parch - 7\n",
      "   Fare - 248\n",
      "   Embarked - 3\n",
      "\n",
      "\n",
      "################### NULL COUNT ###################\n",
      "Survived      0\n",
      "Pclass        0\n",
      "Sex           0\n",
      "Age         177\n",
      "SibSp         0\n",
      "Parch         0\n",
      "Fare          0\n",
      "Embarked      2\n",
      "dtype: int64\n",
      "\n",
      "\n",
      "################### DESCRIBE ###################\n",
      "          count       mean        std   min    0%     5%      25%      50%   75%        95%      100%       max\n",
      "Survived  891.0   0.383838   0.486592  0.00  0.00  0.000   0.0000   0.0000   1.0    1.00000    1.0000    1.0000\n",
      "Pclass    891.0   2.308642   0.836071  1.00  1.00  1.000   2.0000   3.0000   3.0    3.00000    3.0000    3.0000\n",
      "Age       714.0  29.699118  14.526497  0.42  0.42  4.000  20.1250  28.0000  38.0   56.00000   80.0000   80.0000\n",
      "SibSp     891.0   0.523008   1.102743  0.00  0.00  0.000   0.0000   0.0000   1.0    3.00000    8.0000    8.0000\n",
      "Parch     891.0   0.381594   0.806057  0.00  0.00  0.000   0.0000   0.0000   0.0    2.00000    6.0000    6.0000\n",
      "Fare      891.0  32.204208  49.693429  0.00  0.00  7.225   7.9104  14.4542  31.0  112.07915  512.3292  512.3292\n",
      "\n",
      "\n"
     ]
    }
   ],
   "source": [
    "quick_check_data(df_train, 5)"
   ]
  },
  {
   "cell_type": "code",
   "execution_count": 9,
   "id": "6394daae",
   "metadata": {},
   "outputs": [
    {
     "name": "stdout",
     "output_type": "stream",
     "text": [
      "################### SHAPE ###################\n",
      "(418, 7)\n",
      "\n",
      "\n",
      "################### INFO ###################\n",
      "<class 'pandas.core.frame.DataFrame'>\n",
      "RangeIndex: 418 entries, 0 to 417\n",
      "Data columns (total 7 columns):\n",
      " #   Column    Non-Null Count  Dtype  \n",
      "---  ------    --------------  -----  \n",
      " 0   Pclass    418 non-null    int64  \n",
      " 1   Sex       418 non-null    object \n",
      " 2   Age       332 non-null    float64\n",
      " 3   SibSp     418 non-null    int64  \n",
      " 4   Parch     418 non-null    int64  \n",
      " 5   Fare      417 non-null    float64\n",
      " 6   Embarked  418 non-null    object \n",
      "dtypes: float64(2), int64(3), object(2)\n",
      "memory usage: 23.0+ KB\n",
      "None\n",
      "\n",
      "\n",
      "################### UNIQUE COUNTS ###################\n",
      "   Pclass - 3\n",
      "   Sex - 2\n",
      "   Age - 79\n",
      "   SibSp - 7\n",
      "   Parch - 8\n",
      "   Fare - 169\n",
      "   Embarked - 3\n",
      "\n",
      "\n",
      "################### NULL COUNT ###################\n",
      "Pclass       0\n",
      "Sex          0\n",
      "Age         86\n",
      "SibSp        0\n",
      "Parch        0\n",
      "Fare         1\n",
      "Embarked     0\n",
      "dtype: int64\n",
      "\n",
      "\n",
      "################### DESCRIBE ###################\n",
      "        count       mean        std   min    0%      5%      25%      50%   75%     95%      100%       max\n",
      "Pclass  418.0   2.265550   0.841838  1.00  1.00  1.0000   1.0000   3.0000   3.0    3.00    3.0000    3.0000\n",
      "Age     332.0  30.272590  14.181209  0.17  0.17  8.0000  21.0000  27.0000  39.0   57.00   76.0000   76.0000\n",
      "SibSp   418.0   0.447368   0.896760  0.00  0.00  0.0000   0.0000   0.0000   1.0    2.00    8.0000    8.0000\n",
      "Parch   418.0   0.392344   0.981429  0.00  0.00  0.0000   0.0000   0.0000   0.0    2.00    9.0000    9.0000\n",
      "Fare    417.0  35.627188  55.907576  0.00  0.00  7.2292   7.8958  14.4542  31.5  151.55  512.3292  512.3292\n",
      "\n",
      "\n"
     ]
    }
   ],
   "source": [
    "quick_check_data(df_test, 5)"
   ]
  },
  {
   "cell_type": "code",
   "execution_count": 10,
   "id": "fb7fe1fb",
   "metadata": {},
   "outputs": [],
   "source": [
    "def fill_null_values(dataframe, columns):\n",
    "    \n",
    "    for col in columns:\n",
    "        dataframe[col].fillna(dataframe[~dataframe[col].isna()][col].sort_values()[len(dataframe[~dataframe[col].isna()][col])//2-1],inplace=True)\n",
    "    \n",
    "    print(\"################### DATA INFO ###################\", end=\"\\n\\n\")\n",
    "    print(dataframe.info(), end=\"\\n\\n\")\n",
    "    print(\"###################  NULL VALUES ###################\", end=\"\\n\\n\")\n",
    "    print(dataframe.isna().sum())"
   ]
  },
  {
   "cell_type": "code",
   "execution_count": 11,
   "id": "67a690f5",
   "metadata": {},
   "outputs": [
    {
     "name": "stdout",
     "output_type": "stream",
     "text": [
      "################### DATA INFO ###################\n",
      "\n",
      "<class 'pandas.core.frame.DataFrame'>\n",
      "RangeIndex: 891 entries, 0 to 890\n",
      "Data columns (total 8 columns):\n",
      " #   Column    Non-Null Count  Dtype  \n",
      "---  ------    --------------  -----  \n",
      " 0   Survived  891 non-null    int64  \n",
      " 1   Pclass    891 non-null    int64  \n",
      " 2   Sex       891 non-null    object \n",
      " 3   Age       891 non-null    float64\n",
      " 4   SibSp     891 non-null    int64  \n",
      " 5   Parch     891 non-null    int64  \n",
      " 6   Fare      891 non-null    float64\n",
      " 7   Embarked  891 non-null    object \n",
      "dtypes: float64(2), int64(4), object(2)\n",
      "memory usage: 55.8+ KB\n",
      "None\n",
      "\n",
      "###################  NULL VALUES ###################\n",
      "\n",
      "Survived    0\n",
      "Pclass      0\n",
      "Sex         0\n",
      "Age         0\n",
      "SibSp       0\n",
      "Parch       0\n",
      "Fare        0\n",
      "Embarked    0\n",
      "dtype: int64\n"
     ]
    }
   ],
   "source": [
    "fill_null_values(df_train, [\"Age\", \"Embarked\"])"
   ]
  },
  {
   "cell_type": "code",
   "execution_count": 12,
   "id": "b0e440c8",
   "metadata": {},
   "outputs": [
    {
     "name": "stdout",
     "output_type": "stream",
     "text": [
      "################### DATA INFO ###################\n",
      "\n",
      "<class 'pandas.core.frame.DataFrame'>\n",
      "RangeIndex: 418 entries, 0 to 417\n",
      "Data columns (total 7 columns):\n",
      " #   Column    Non-Null Count  Dtype  \n",
      "---  ------    --------------  -----  \n",
      " 0   Pclass    418 non-null    int64  \n",
      " 1   Sex       418 non-null    object \n",
      " 2   Age       418 non-null    float64\n",
      " 3   SibSp     418 non-null    int64  \n",
      " 4   Parch     418 non-null    int64  \n",
      " 5   Fare      418 non-null    float64\n",
      " 6   Embarked  418 non-null    object \n",
      "dtypes: float64(2), int64(3), object(2)\n",
      "memory usage: 23.0+ KB\n",
      "None\n",
      "\n",
      "###################  NULL VALUES ###################\n",
      "\n",
      "Pclass      0\n",
      "Sex         0\n",
      "Age         0\n",
      "SibSp       0\n",
      "Parch       0\n",
      "Fare        0\n",
      "Embarked    0\n",
      "dtype: int64\n"
     ]
    }
   ],
   "source": [
    "fill_null_values(df_test, [\"Age\", \"Fare\"])"
   ]
  },
  {
   "cell_type": "code",
   "execution_count": 13,
   "id": "abbd2cbe",
   "metadata": {},
   "outputs": [],
   "source": [
    "def define_data_types(dataframe, nCategory):\n",
    "    cat_values = [val for val in dataframe.columns if str(dataframe[val].dtypes) in [\"category\", \"object\", \"bool\"] and dataframe[val].nunique() <= nCategory]\n",
    "    not_int_values = [val for val in dataframe.columns if str(dataframe[val].dtypes) in [\"int64\", \"float64\"] and dataframe[val].nunique() <= nCategory]\n",
    "    cat_values = cat_values + not_int_values\n",
    "    \n",
    "    int_values = [val for val in dataframe.columns if val not in cat_values]\n",
    "    not_cat_values = [val for val in dataframe.columns if str(dataframe[val].dtypes) in [\"category\", \"object\", \"bool\"] and dataframe[val].nunique() > nCategory and val not in int_values]\n",
    "    int_values = int_values + not_cat_values\n",
    "    \n",
    "    print(\"################### PANDAS DATA INFO ###################\")\n",
    "    print(dataframe.info(), end='\\n\\n')\n",
    "    \n",
    "    print(\"################### UNIQUE COUNTS ###################\")\n",
    "    for col in dataframe.columns:\n",
    "        print(f\"   {col} - {dataframe[col].nunique()}\", end='\\n')\n",
    "    print(end='\\n')\n",
    "    \n",
    "    print(\"################### CATEGORICAL DATA TYPES ###################\")\n",
    "    print(cat_values, end='\\n\\n')\n",
    "    \n",
    "    print(\"################### NUMERICAL DATA TYPES ###################\")\n",
    "    print(int_values, end='\\n\\n')\n",
    "    \n",
    "    print(\"################### STATISTICS DATA SHOW ###################\")\n",
    "    print(\"Columns: \", len(dataframe.columns))\n",
    "    print(\"Category: \", len(cat_values))\n",
    "    print(\"Number: \", len(int_values))\n",
    "    print(\"Not Cat: \", len(not_cat_values))\n",
    "    print(\"Not Num: \", len(not_int_values))\n",
    "    \n",
    "    return cat_values, int_values"
   ]
  },
  {
   "cell_type": "code",
   "execution_count": 14,
   "id": "1c24a11a",
   "metadata": {
    "scrolled": false
   },
   "outputs": [
    {
     "name": "stdout",
     "output_type": "stream",
     "text": [
      "################### PANDAS DATA INFO ###################\n",
      "<class 'pandas.core.frame.DataFrame'>\n",
      "RangeIndex: 891 entries, 0 to 890\n",
      "Data columns (total 8 columns):\n",
      " #   Column    Non-Null Count  Dtype  \n",
      "---  ------    --------------  -----  \n",
      " 0   Survived  891 non-null    int64  \n",
      " 1   Pclass    891 non-null    int64  \n",
      " 2   Sex       891 non-null    object \n",
      " 3   Age       891 non-null    float64\n",
      " 4   SibSp     891 non-null    int64  \n",
      " 5   Parch     891 non-null    int64  \n",
      " 6   Fare      891 non-null    float64\n",
      " 7   Embarked  891 non-null    object \n",
      "dtypes: float64(2), int64(4), object(2)\n",
      "memory usage: 55.8+ KB\n",
      "None\n",
      "\n",
      "################### UNIQUE COUNTS ###################\n",
      "   Survived - 2\n",
      "   Pclass - 3\n",
      "   Sex - 2\n",
      "   Age - 88\n",
      "   SibSp - 7\n",
      "   Parch - 7\n",
      "   Fare - 248\n",
      "   Embarked - 3\n",
      "\n",
      "################### CATEGORICAL DATA TYPES ###################\n",
      "['Sex', 'Embarked', 'Survived', 'Pclass', 'SibSp', 'Parch']\n",
      "\n",
      "################### NUMERICAL DATA TYPES ###################\n",
      "['Age', 'Fare']\n",
      "\n",
      "################### STATISTICS DATA SHOW ###################\n",
      "Columns:  8\n",
      "Category:  6\n",
      "Number:  2\n",
      "Not Cat:  0\n",
      "Not Num:  4\n"
     ]
    }
   ],
   "source": [
    "category, number = define_data_types(df_train, 10)"
   ]
  },
  {
   "cell_type": "code",
   "execution_count": 15,
   "id": "f0c58965",
   "metadata": {},
   "outputs": [],
   "source": [
    "def categorical_analysis(dataframe, column_names):\n",
    "    \n",
    "    pd.options.display.float_format = '{:,.2f}'.format\n",
    "                                           \n",
    "    for col in column_names:\n",
    "        print(\"#####################################\")\n",
    "        s1 = dataframe[col].value_counts()\n",
    "        s2 = dataframe[col].value_counts()/len(dataframe[col])\n",
    "        \n",
    "        print(pd.concat([s1, s2], names=col, keys=['count', \"ratio\"], axis=1), end=\"\\n#####################################\\n\\n\")\n",
    "        "
   ]
  },
  {
   "cell_type": "code",
   "execution_count": 16,
   "id": "b34505cf",
   "metadata": {},
   "outputs": [
    {
     "name": "stdout",
     "output_type": "stream",
     "text": [
      "#####################################\n",
      "Sex     count  ratio\n",
      "male      577   0.65\n",
      "female    314   0.35\n",
      "#####################################\n",
      "\n",
      "#####################################\n",
      "Embarked  count  ratio\n",
      "S           646   0.73\n",
      "C           168   0.19\n",
      "Q            77   0.09\n",
      "#####################################\n",
      "\n",
      "#####################################\n",
      "Survived  count  ratio\n",
      "0           549   0.62\n",
      "1           342   0.38\n",
      "#####################################\n",
      "\n",
      "#####################################\n",
      "Pclass  count  ratio\n",
      "3         491   0.55\n",
      "1         216   0.24\n",
      "2         184   0.21\n",
      "#####################################\n",
      "\n",
      "#####################################\n",
      "SibSp  count  ratio\n",
      "0        608   0.68\n",
      "1        209   0.23\n",
      "2         28   0.03\n",
      "4         18   0.02\n",
      "3         16   0.02\n",
      "8          7   0.01\n",
      "5          5   0.01\n",
      "#####################################\n",
      "\n",
      "#####################################\n",
      "Parch  count  ratio\n",
      "0        678   0.76\n",
      "1        118   0.13\n",
      "2         80   0.09\n",
      "5          5   0.01\n",
      "3          5   0.01\n",
      "4          4   0.00\n",
      "6          1   0.00\n",
      "#####################################\n",
      "\n"
     ]
    }
   ],
   "source": [
    "categorical_analysis(df_train, category)"
   ]
  },
  {
   "cell_type": "code",
   "execution_count": 17,
   "id": "8e006988",
   "metadata": {},
   "outputs": [],
   "source": [
    "def numerical_analysis(dataframe, column_names):\n",
    "    \n",
    "    pd.options.display.float_format = '{:,.1f}'.format\n",
    "    \n",
    "    print(dataframe[column_names].describe([0, 0.05, 0.25, 0.5, 0.75, 0.95, 1]).T, end='\\n\\n')\n",
    "    \n",
    "    for col in column_names:\n",
    "        if plt.plot:\n",
    "            sns.histplot(dataframe[col], kde=True)\n",
    "            \n",
    "            plt.title(\"Histogram of \" + col)\n",
    "            plt.xlabel(col)\n",
    "            plt.ylabel(\"Count\")\n",
    "            plt.show()"
   ]
  },
  {
   "cell_type": "code",
   "execution_count": 18,
   "id": "ce6437a2",
   "metadata": {},
   "outputs": [
    {
     "name": "stdout",
     "output_type": "stream",
     "text": [
      "      count  mean  std  min  0%  5%  25%  50%  75%   95%  100%   max\n",
      "Age   891.0  28.2 13.4  0.4 0.4 6.0 22.0 24.0 35.0  54.0  80.0  80.0\n",
      "Fare  891.0  32.2 49.7  0.0 0.0 7.2  7.9 14.5 31.0 112.1 512.3 512.3\n",
      "\n"
     ]
    },
    {
     "data": {
      "image/png": "[encoded data removed]",
      "text/plain": [
       "<Figure size 432x288 with 1 Axes>"
      ]
     },
     "metadata": {
      "needs_background": "light"
     },
     "output_type": "display_data"
    },
    {
     "data": {
      "image/png": "[encoded data removed]",
      "text/plain": [
       "<Figure size 432x288 with 1 Axes>"
      ]
     },
     "metadata": {
      "needs_background": "light"
     },
     "output_type": "display_data"
    }
   ],
   "source": [
    "numerical_analysis(df_train, number)"
   ]
  },
  {
   "cell_type": "code",
   "execution_count": 19,
   "id": "cfdba3d1",
   "metadata": {},
   "outputs": [],
   "source": [
    "target = \"Survived\""
   ]
  },
  {
   "cell_type": "code",
   "execution_count": 20,
   "id": "b26700af",
   "metadata": {},
   "outputs": [],
   "source": [
    "def target_analysis_with_catagory(dataframe, cat_types, target):\n",
    "    \n",
    "    pd.options.display.float_format = '{:,.2f}'.format\n",
    "    \n",
    "    for col in cat_types:\n",
    "        if col != target:\n",
    "            print(\"#####################################\")\n",
    "            print(dataframe.groupby(col)[target].mean(), end=\"\\n#####################################\\n\\n\")"
   ]
  },
  {
   "cell_type": "code",
   "execution_count": 21,
   "id": "ecb22fca",
   "metadata": {},
   "outputs": [
    {
     "name": "stdout",
     "output_type": "stream",
     "text": [
      "#####################################\n",
      "Sex\n",
      "female   0.74\n",
      "male     0.19\n",
      "Name: Survived, dtype: float64\n",
      "#####################################\n",
      "\n",
      "#####################################\n",
      "Embarked\n",
      "C   0.55\n",
      "Q   0.39\n",
      "S   0.34\n",
      "Name: Survived, dtype: float64\n",
      "#####################################\n",
      "\n",
      "#####################################\n",
      "Pclass\n",
      "1   0.63\n",
      "2   0.47\n",
      "3   0.24\n",
      "Name: Survived, dtype: float64\n",
      "#####################################\n",
      "\n",
      "#####################################\n",
      "SibSp\n",
      "0   0.35\n",
      "1   0.54\n",
      "2   0.46\n",
      "3   0.25\n",
      "4   0.17\n",
      "5   0.00\n",
      "8   0.00\n",
      "Name: Survived, dtype: float64\n",
      "#####################################\n",
      "\n",
      "#####################################\n",
      "Parch\n",
      "0   0.34\n",
      "1   0.55\n",
      "2   0.50\n",
      "3   0.60\n",
      "4   0.00\n",
      "5   0.20\n",
      "6   0.00\n",
      "Name: Survived, dtype: float64\n",
      "#####################################\n",
      "\n"
     ]
    }
   ],
   "source": [
    "target_analysis_with_catagory(df_train, category, target)"
   ]
  },
  {
   "cell_type": "code",
   "execution_count": 22,
   "id": "db7bbb93",
   "metadata": {},
   "outputs": [],
   "source": [
    "def target_analysis_with_numerical(dataframe, cat_types, target):\n",
    "    \n",
    "    pd.options.display.float_format = '{:,.2f}'.format\n",
    "    \n",
    "    for col in cat_types:\n",
    "        if col != target:\n",
    "            print(\"################# MEAN ####################\")\n",
    "            print(dataframe.groupby(target).agg({col: \"mean\"}), end=\"\\n#####################################\\n\\n\")"
   ]
  },
  {
   "cell_type": "code",
   "execution_count": 23,
   "id": "be9f4787",
   "metadata": {},
   "outputs": [
    {
     "name": "stdout",
     "output_type": "stream",
     "text": [
      "################# MEAN ####################\n",
      "           Age\n",
      "Survived      \n",
      "0        28.66\n",
      "1        27.38\n",
      "#####################################\n",
      "\n",
      "################# MEAN ####################\n",
      "          Fare\n",
      "Survived      \n",
      "0        22.12\n",
      "1        48.40\n",
      "#####################################\n",
      "\n"
     ]
    }
   ],
   "source": [
    "target_analysis_with_numerical(df_train, number, target)"
   ]
  },
  {
   "cell_type": "markdown",
   "id": "367b64a6",
   "metadata": {},
   "source": [
    "#### Replace Lables with Categories"
   ]
  },
  {
   "cell_type": "code",
   "execution_count": 24,
   "id": "4163c8b8",
   "metadata": {},
   "outputs": [],
   "source": [
    "def label_encoding(dataframe, columns):\n",
    "     \n",
    "    label_encoder = preprocessing.LabelEncoder() \n",
    "    \n",
    "    for col in columns:\n",
    "        dataframe[col] = label_encoder.fit_transform(dataframe[col]) "
   ]
  },
  {
   "cell_type": "code",
   "execution_count": 25,
   "id": "66585884",
   "metadata": {},
   "outputs": [],
   "source": [
    "label_encoding(df_train, [\"Sex\", \"Embarked\"])\n",
    "label_encoding(df_test, [\"Sex\", \"Embarked\"])"
   ]
  },
  {
   "cell_type": "code",
   "execution_count": 26,
   "id": "1118390b",
   "metadata": {},
   "outputs": [],
   "source": [
    "def correlation_matrix(dataframe,columns):\n",
    "    fig = plt.gcf()\n",
    "    fig.set_size_inches(10,8)\n",
    "    plt.xticks(fontsize=10)\n",
    "    plt.yticks(fontsize=10)\n",
    "    fig=sns.heatmap(dataframe[columns].corr(), annot=True, linewidths = 0.5, annot_kws={'size':12},linecolor='w',cmap='RdBu')\n",
    "    plt.show(block=True)"
   ]
  },
  {
   "cell_type": "code",
   "execution_count": 27,
   "id": "2d573fea",
   "metadata": {},
   "outputs": [
    {
     "data": {
      "image/png": "[encoded data removed]",
      "text/plain": [
       "<Figure size 720x576 with 2 Axes>"
      ]
     },
     "metadata": {
      "needs_background": "light"
     },
     "output_type": "display_data"
    }
   ],
   "source": [
    "correlation_matrix(df_train, df_train.columns)"
   ]
  },
  {
   "cell_type": "markdown",
   "id": "6f903d2b",
   "metadata": {},
   "source": [
    "### Data Preprocessing & Feature Engineering"
   ]
  },
  {
   "cell_type": "markdown",
   "id": "ea43ddf7",
   "metadata": {},
   "source": [
    "#### Drop Week Features"
   ]
  },
  {
   "cell_type": "code",
   "execution_count": 28,
   "id": "ac38a15e",
   "metadata": {},
   "outputs": [],
   "source": [
    "# drop_columns(df_train, [\"SibSp\"])\n",
    "# drop_columns(df_test, [\"SibSp\"])\n",
    "\n",
    "# category.remove('SibSp')"
   ]
  },
  {
   "cell_type": "markdown",
   "id": "4e1c1693",
   "metadata": {},
   "source": [
    "#### Outlier"
   ]
  },
  {
   "cell_type": "code",
   "execution_count": 29,
   "id": "fa41da17",
   "metadata": {},
   "outputs": [],
   "source": [
    "def check_outlier(dataframe, columns):\n",
    "    for col in columns:\n",
    "        sns.boxplot(x=dataframe[col])\n",
    "        plt.show()"
   ]
  },
  {
   "cell_type": "code",
   "execution_count": 30,
   "id": "f37a9302",
   "metadata": {
    "scrolled": false
   },
   "outputs": [
    {
     "data": {
      "image/png": "[encoded data removed]",
      "text/plain": [
       "<Figure size 432x288 with 1 Axes>"
      ]
     },
     "metadata": {
      "needs_background": "light"
     },
     "output_type": "display_data"
    },
    {
     "data": {
      "image/png": "[encoded data removed]",
      "text/plain": [
       "<Figure size 432x288 with 1 Axes>"
      ]
     },
     "metadata": {
      "needs_background": "light"
     },
     "output_type": "display_data"
    }
   ],
   "source": [
    "check_outlier(df_train, number)"
   ]
  },
  {
   "cell_type": "code",
   "execution_count": 31,
   "id": "0267a558",
   "metadata": {},
   "outputs": [],
   "source": [
    "def outlier_thresholds(dataframe, col_name, q1=0.25, q3=0.75):\n",
    "    quartile1= dataframe[col_name].quantile(q1)\n",
    "    quartile3=dataframe[col_name].quantile(q3)\n",
    "    interquartile_range = quartile3-quartile1\n",
    "    up_limit = quartile3+1.5*interquartile_range\n",
    "    low_limit = quartile1-1.5*interquartile_range\n",
    "    return low_limit,up_limit"
   ]
  },
  {
   "cell_type": "code",
   "execution_count": 32,
   "id": "f53c0095",
   "metadata": {},
   "outputs": [],
   "source": [
    "def replace_with_threshold(dataframe, variable):\n",
    "    \n",
    "    for var in variable:\n",
    "        low_limit,up_limit = outlier_thresholds(dataframe, var)\n",
    "        dataframe.loc[(dataframe[var]<=low_limit), var] = low_limit\n",
    "        dataframe.loc[(dataframe[var]>=up_limit), var] = up_limit"
   ]
  },
  {
   "cell_type": "code",
   "execution_count": 33,
   "id": "065e89ab",
   "metadata": {},
   "outputs": [],
   "source": [
    "replace_with_threshold(df_train, number)"
   ]
  },
  {
   "cell_type": "code",
   "execution_count": 34,
   "id": "19bbb213",
   "metadata": {
    "scrolled": false
   },
   "outputs": [
    {
     "data": {
      "image/png": "[encoded data removed]",
      "text/plain": [
       "<Figure size 432x288 with 1 Axes>"
      ]
     },
     "metadata": {
      "needs_background": "light"
     },
     "output_type": "display_data"
    },
    {
     "data": {
      "image/png": "[encoded data removed]",
      "text/plain": [
       "<Figure size 432x288 with 1 Axes>"
      ]
     },
     "metadata": {
      "needs_background": "light"
     },
     "output_type": "display_data"
    }
   ],
   "source": [
    "check_outlier(df_train, number)"
   ]
  },
  {
   "cell_type": "markdown",
   "id": "51d6fedb",
   "metadata": {},
   "source": [
    "#### Min-Max Normalize"
   ]
  },
  {
   "cell_type": "code",
   "execution_count": 35,
   "id": "041724cf",
   "metadata": {},
   "outputs": [],
   "source": [
    "def normalize(dataframe):\n",
    "    for col in dataframe.columns:\n",
    "        max_value = dataframe[col].max()\n",
    "        min_value = dataframe[col].min()\n",
    "        dataframe[col] = (dataframe[col] - min_value) / (max_value - min_value)"
   ]
  },
  {
   "cell_type": "code",
   "execution_count": 36,
   "id": "c53f4bd8",
   "metadata": {},
   "outputs": [],
   "source": [
    "normalize(df_train)\n",
    "normalize(df_test)"
   ]
  },
  {
   "cell_type": "code",
   "execution_count": 37,
   "id": "4aab72ed",
   "metadata": {},
   "outputs": [
    {
     "data": {
      "text/html": [
       "<div>\n",
       "<style scoped>\n",
       "    .dataframe tbody tr th:only-of-type {\n",
       "        vertical-align: middle;\n",
       "    }\n",
       "\n",
       "    .dataframe tbody tr th {\n",
       "        vertical-align: top;\n",
       "    }\n",
       "\n",
       "    .dataframe thead th {\n",
       "        text-align: right;\n",
       "    }\n",
       "</style>\n",
       "<table border=\"1\" class=\"dataframe\">\n",
       "  <thead>\n",
       "    <tr style=\"text-align: right;\">\n",
       "      <th></th>\n",
       "      <th>Survived</th>\n",
       "      <th>Pclass</th>\n",
       "      <th>Sex</th>\n",
       "      <th>Age</th>\n",
       "      <th>SibSp</th>\n",
       "      <th>Parch</th>\n",
       "      <th>Fare</th>\n",
       "      <th>Embarked</th>\n",
       "    </tr>\n",
       "  </thead>\n",
       "  <tbody>\n",
       "    <tr>\n",
       "      <th>0</th>\n",
       "      <td>0.00</td>\n",
       "      <td>1.00</td>\n",
       "      <td>1.00</td>\n",
       "      <td>0.38</td>\n",
       "      <td>0.12</td>\n",
       "      <td>0.00</td>\n",
       "      <td>0.11</td>\n",
       "      <td>1.00</td>\n",
       "    </tr>\n",
       "    <tr>\n",
       "      <th>1</th>\n",
       "      <td>1.00</td>\n",
       "      <td>0.00</td>\n",
       "      <td>0.00</td>\n",
       "      <td>0.68</td>\n",
       "      <td>0.12</td>\n",
       "      <td>0.00</td>\n",
       "      <td>1.00</td>\n",
       "      <td>0.00</td>\n",
       "    </tr>\n",
       "    <tr>\n",
       "      <th>2</th>\n",
       "      <td>1.00</td>\n",
       "      <td>1.00</td>\n",
       "      <td>0.00</td>\n",
       "      <td>0.45</td>\n",
       "      <td>0.00</td>\n",
       "      <td>0.00</td>\n",
       "      <td>0.12</td>\n",
       "      <td>1.00</td>\n",
       "    </tr>\n",
       "    <tr>\n",
       "      <th>3</th>\n",
       "      <td>1.00</td>\n",
       "      <td>0.00</td>\n",
       "      <td>0.00</td>\n",
       "      <td>0.62</td>\n",
       "      <td>0.12</td>\n",
       "      <td>0.00</td>\n",
       "      <td>0.81</td>\n",
       "      <td>1.00</td>\n",
       "    </tr>\n",
       "    <tr>\n",
       "      <th>4</th>\n",
       "      <td>0.00</td>\n",
       "      <td>1.00</td>\n",
       "      <td>1.00</td>\n",
       "      <td>0.62</td>\n",
       "      <td>0.00</td>\n",
       "      <td>0.00</td>\n",
       "      <td>0.12</td>\n",
       "      <td>1.00</td>\n",
       "    </tr>\n",
       "  </tbody>\n",
       "</table>\n",
       "</div>"
      ],
      "text/plain": [
       "   Survived  Pclass  Sex  Age  SibSp  Parch  Fare  Embarked\n",
       "0      0.00    1.00 1.00 0.38   0.12   0.00  0.11      1.00\n",
       "1      1.00    0.00 0.00 0.68   0.12   0.00  1.00      0.00\n",
       "2      1.00    1.00 0.00 0.45   0.00   0.00  0.12      1.00\n",
       "3      1.00    0.00 0.00 0.62   0.12   0.00  0.81      1.00\n",
       "4      0.00    1.00 1.00 0.62   0.00   0.00  0.12      1.00"
      ]
     },
     "execution_count": 37,
     "metadata": {},
     "output_type": "execute_result"
    }
   ],
   "source": [
    "df_train.head()"
   ]
  },
  {
   "cell_type": "code",
   "execution_count": 38,
   "id": "0b78d626",
   "metadata": {},
   "outputs": [],
   "source": [
    "y = df_train[target]\n",
    "X = df_train.drop(target, axis=1)\n",
    "\n",
    "X_train,X_test,y_train,y_test = train_test_split(X,y,test_size=0.2)"
   ]
  },
  {
   "cell_type": "code",
   "execution_count": 39,
   "id": "824d96ad",
   "metadata": {},
   "outputs": [
    {
     "data": {
      "text/html": [
       "<div>\n",
       "<style scoped>\n",
       "    .dataframe tbody tr th:only-of-type {\n",
       "        vertical-align: middle;\n",
       "    }\n",
       "\n",
       "    .dataframe tbody tr th {\n",
       "        vertical-align: top;\n",
       "    }\n",
       "\n",
       "    .dataframe thead th {\n",
       "        text-align: right;\n",
       "    }\n",
       "</style>\n",
       "<table border=\"1\" class=\"dataframe\">\n",
       "  <thead>\n",
       "    <tr style=\"text-align: right;\">\n",
       "      <th></th>\n",
       "      <th>Pclass</th>\n",
       "      <th>Sex</th>\n",
       "      <th>Age</th>\n",
       "      <th>SibSp</th>\n",
       "      <th>Parch</th>\n",
       "      <th>Fare</th>\n",
       "      <th>Embarked</th>\n",
       "    </tr>\n",
       "  </thead>\n",
       "  <tbody>\n",
       "    <tr>\n",
       "      <th>373</th>\n",
       "      <td>0.00</td>\n",
       "      <td>1.00</td>\n",
       "      <td>0.38</td>\n",
       "      <td>0.00</td>\n",
       "      <td>0.00</td>\n",
       "      <td>1.00</td>\n",
       "      <td>0.00</td>\n",
       "    </tr>\n",
       "    <tr>\n",
       "      <th>512</th>\n",
       "      <td>0.00</td>\n",
       "      <td>1.00</td>\n",
       "      <td>0.64</td>\n",
       "      <td>0.00</td>\n",
       "      <td>0.00</td>\n",
       "      <td>0.40</td>\n",
       "      <td>1.00</td>\n",
       "    </tr>\n",
       "    <tr>\n",
       "      <th>806</th>\n",
       "      <td>0.00</td>\n",
       "      <td>1.00</td>\n",
       "      <td>0.70</td>\n",
       "      <td>0.00</td>\n",
       "      <td>0.00</td>\n",
       "      <td>0.00</td>\n",
       "      <td>1.00</td>\n",
       "    </tr>\n",
       "    <tr>\n",
       "      <th>474</th>\n",
       "      <td>1.00</td>\n",
       "      <td>0.00</td>\n",
       "      <td>0.38</td>\n",
       "      <td>0.00</td>\n",
       "      <td>0.00</td>\n",
       "      <td>0.15</td>\n",
       "      <td>1.00</td>\n",
       "    </tr>\n",
       "    <tr>\n",
       "      <th>287</th>\n",
       "      <td>1.00</td>\n",
       "      <td>1.00</td>\n",
       "      <td>0.38</td>\n",
       "      <td>0.00</td>\n",
       "      <td>0.00</td>\n",
       "      <td>0.12</td>\n",
       "      <td>1.00</td>\n",
       "    </tr>\n",
       "  </tbody>\n",
       "</table>\n",
       "</div>"
      ],
      "text/plain": [
       "     Pclass  Sex  Age  SibSp  Parch  Fare  Embarked\n",
       "373    0.00 1.00 0.38   0.00   0.00  1.00      0.00\n",
       "512    0.00 1.00 0.64   0.00   0.00  0.40      1.00\n",
       "806    0.00 1.00 0.70   0.00   0.00  0.00      1.00\n",
       "474    1.00 0.00 0.38   0.00   0.00  0.15      1.00\n",
       "287    1.00 1.00 0.38   0.00   0.00  0.12      1.00"
      ]
     },
     "execution_count": 39,
     "metadata": {},
     "output_type": "execute_result"
    }
   ],
   "source": [
    "X_train.head()"
   ]
  },
  {
   "cell_type": "code",
   "execution_count": 40,
   "id": "32b38c04",
   "metadata": {},
   "outputs": [
    {
     "data": {
      "text/plain": [
       "373   0.00\n",
       "512   1.00\n",
       "806   0.00\n",
       "474   0.00\n",
       "287   0.00\n",
       "Name: Survived, dtype: float64"
      ]
     },
     "execution_count": 40,
     "metadata": {},
     "output_type": "execute_result"
    }
   ],
   "source": [
    "y_train.head()"
   ]
  },
  {
   "cell_type": "markdown",
   "id": "e28f2baa",
   "metadata": {},
   "source": [
    "### Model "
   ]
  },
  {
   "cell_type": "code",
   "execution_count": 41,
   "id": "92900002",
   "metadata": {},
   "outputs": [],
   "source": [
    "def base_models(X,y, scoring=\"roc_auc\"):\n",
    "    print(\"Basel Models.....\")\n",
    "    classifiers = [('LR',LogisticRegression()), ('KNN',KNeighborsClassifier()),(\"SVC\",SVC()),(\"CART\", DecisionTreeClassifier()), (\"NB\", GaussianNB()),\n",
    "                  (\"RF\",RandomForestClassifier()),('Adaboost',AdaBoostClassifier()),('GBM',GradientBoostingClassifier()),('XGBoost',XGBClassifier(use_label_encoder=False, eval_metric='logloss'))]\n",
    "    for name, classifier in classifiers:\n",
    "        cv_results = cross_validate(classifier, X,y, cv=5, scoring=scoring)\n",
    "        print(f\"{scoring}: {round(cv_results['test_score'].mean(),4)} ({name})\")"
   ]
  },
  {
   "cell_type": "code",
   "execution_count": 42,
   "id": "c29bb177",
   "metadata": {
    "scrolled": false
   },
   "outputs": [
    {
     "name": "stdout",
     "output_type": "stream",
     "text": [
      "Basel Models.....\n",
      "accuracy: 0.7963 (LR)\n",
      "accuracy: 0.7865 (KNN)\n",
      "accuracy: 0.8006 (SVC)\n",
      "accuracy: 0.7878 (CART)\n",
      "accuracy: 0.764 (NB)\n",
      "accuracy: 0.7963 (RF)\n",
      "accuracy: 0.7781 (Adaboost)\n",
      "accuracy: 0.8033 (GBM)\n",
      "accuracy: 0.8048 (XGBoost)\n"
     ]
    }
   ],
   "source": [
    "base_models(X_train, y_train, scoring=\"accuracy\")"
   ]
  },
  {
   "cell_type": "markdown",
   "id": "2c510449",
   "metadata": {},
   "source": [
    "### Automated Hyperparameter Optimization"
   ]
  },
  {
   "cell_type": "code",
   "execution_count": 43,
   "id": "c7048727",
   "metadata": {},
   "outputs": [],
   "source": [
    "def display(results):\n",
    "    print(f'Best parameters are: {results.best_params_}')\n",
    "    print(\"\\n\")\n",
    "    mean_score = results.cv_results_['mean_test_score']\n",
    "    std_score = results.cv_results_['std_test_score']\n",
    "    params = results.cv_results_['params']\n",
    "    for mean,std,params in zip(mean_score,std_score,params):\n",
    "        print(f'{round(mean,3)} + or -{round(std,3)} for the {params}')"
   ]
  },
  {
   "cell_type": "markdown",
   "id": "f4350d34",
   "metadata": {},
   "source": [
    "#### Gradient Boosting Classifier Algorithm"
   ]
  },
  {
   "cell_type": "code",
   "execution_count": 44,
   "id": "59e420c4",
   "metadata": {},
   "outputs": [],
   "source": [
    "gbc = GradientBoostingClassifier()\n",
    "gbc_parameters = {\n",
    "    \"n_estimators\":[5, 50,250,500],\n",
    "    \"max_depth\":[1,3,5,7,9],\n",
    "    \"learning_rate\":[0.01,0.1,1,10,100]\n",
    "}"
   ]
  },
  {
   "cell_type": "code",
   "execution_count": 45,
   "id": "49fd06c1",
   "metadata": {},
   "outputs": [
    {
     "data": {
      "text/plain": [
       "GridSearchCV(cv=10, estimator=GradientBoostingClassifier(),\n",
       "             param_grid={'learning_rate': [0.01, 0.1, 1, 10, 100],\n",
       "                         'max_depth': [1, 3, 5, 7, 9],\n",
       "                         'n_estimators': [5, 50, 250, 500]})"
      ]
     },
     "execution_count": 45,
     "metadata": {},
     "output_type": "execute_result"
    }
   ],
   "source": [
    "gbc_cv = GridSearchCV(gbc, gbc_parameters, cv=10)\n",
    "gbc_cv.fit(X_train, y_train.values.ravel())"
   ]
  },
  {
   "cell_type": "code",
   "execution_count": 46,
   "id": "27a6529c",
   "metadata": {
    "scrolled": true
   },
   "outputs": [
    {
     "name": "stdout",
     "output_type": "stream",
     "text": [
      "Best parameters are: {'learning_rate': 0.01, 'max_depth': 3, 'n_estimators': 250}\n",
      "\n",
      "\n",
      "0.621 + or -0.002 for the {'learning_rate': 0.01, 'max_depth': 1, 'n_estimators': 5}\n",
      "0.782 + or -0.042 for the {'learning_rate': 0.01, 'max_depth': 1, 'n_estimators': 50}\n",
      "0.782 + or -0.042 for the {'learning_rate': 0.01, 'max_depth': 1, 'n_estimators': 250}\n",
      "0.792 + or -0.046 for the {'learning_rate': 0.01, 'max_depth': 1, 'n_estimators': 500}\n",
      "0.621 + or -0.002 for the {'learning_rate': 0.01, 'max_depth': 3, 'n_estimators': 5}\n",
      "0.791 + or -0.055 for the {'learning_rate': 0.01, 'max_depth': 3, 'n_estimators': 50}\n",
      "0.817 + or -0.036 for the {'learning_rate': 0.01, 'max_depth': 3, 'n_estimators': 250}\n",
      "0.815 + or -0.038 for the {'learning_rate': 0.01, 'max_depth': 3, 'n_estimators': 500}\n",
      "0.621 + or -0.002 for the {'learning_rate': 0.01, 'max_depth': 5, 'n_estimators': 5}\n",
      "0.802 + or -0.047 for the {'learning_rate': 0.01, 'max_depth': 5, 'n_estimators': 50}\n",
      "0.808 + or -0.047 for the {'learning_rate': 0.01, 'max_depth': 5, 'n_estimators': 250}\n",
      "0.809 + or -0.057 for the {'learning_rate': 0.01, 'max_depth': 5, 'n_estimators': 500}\n",
      "0.621 + or -0.002 for the {'learning_rate': 0.01, 'max_depth': 7, 'n_estimators': 5}\n",
      "0.798 + or -0.054 for the {'learning_rate': 0.01, 'max_depth': 7, 'n_estimators': 50}\n",
      "0.8 + or -0.046 for the {'learning_rate': 0.01, 'max_depth': 7, 'n_estimators': 250}\n",
      "0.799 + or -0.047 for the {'learning_rate': 0.01, 'max_depth': 7, 'n_estimators': 500}\n",
      "0.621 + or -0.002 for the {'learning_rate': 0.01, 'max_depth': 9, 'n_estimators': 5}\n",
      "0.798 + or -0.056 for the {'learning_rate': 0.01, 'max_depth': 9, 'n_estimators': 50}\n",
      "0.798 + or -0.038 for the {'learning_rate': 0.01, 'max_depth': 9, 'n_estimators': 250}\n",
      "0.793 + or -0.044 for the {'learning_rate': 0.01, 'max_depth': 9, 'n_estimators': 500}\n",
      "0.782 + or -0.042 for the {'learning_rate': 0.1, 'max_depth': 1, 'n_estimators': 5}\n",
      "0.792 + or -0.046 for the {'learning_rate': 0.1, 'max_depth': 1, 'n_estimators': 50}\n",
      "0.792 + or -0.045 for the {'learning_rate': 0.1, 'max_depth': 1, 'n_estimators': 250}\n",
      "0.794 + or -0.046 for the {'learning_rate': 0.1, 'max_depth': 1, 'n_estimators': 500}\n",
      "0.792 + or -0.055 for the {'learning_rate': 0.1, 'max_depth': 3, 'n_estimators': 5}\n",
      "0.81 + or -0.049 for the {'learning_rate': 0.1, 'max_depth': 3, 'n_estimators': 50}\n",
      "0.813 + or -0.05 for the {'learning_rate': 0.1, 'max_depth': 3, 'n_estimators': 250}\n",
      "0.802 + or -0.052 for the {'learning_rate': 0.1, 'max_depth': 3, 'n_estimators': 500}\n",
      "0.803 + or -0.045 for the {'learning_rate': 0.1, 'max_depth': 5, 'n_estimators': 5}\n",
      "0.813 + or -0.052 for the {'learning_rate': 0.1, 'max_depth': 5, 'n_estimators': 50}\n",
      "0.81 + or -0.047 for the {'learning_rate': 0.1, 'max_depth': 5, 'n_estimators': 250}\n",
      "0.796 + or -0.04 for the {'learning_rate': 0.1, 'max_depth': 5, 'n_estimators': 500}\n",
      "0.793 + or -0.053 for the {'learning_rate': 0.1, 'max_depth': 7, 'n_estimators': 5}\n",
      "0.793 + or -0.041 for the {'learning_rate': 0.1, 'max_depth': 7, 'n_estimators': 50}\n",
      "0.792 + or -0.054 for the {'learning_rate': 0.1, 'max_depth': 7, 'n_estimators': 250}\n",
      "0.792 + or -0.045 for the {'learning_rate': 0.1, 'max_depth': 7, 'n_estimators': 500}\n",
      "0.795 + or -0.051 for the {'learning_rate': 0.1, 'max_depth': 9, 'n_estimators': 5}\n",
      "0.793 + or -0.037 for the {'learning_rate': 0.1, 'max_depth': 9, 'n_estimators': 50}\n",
      "0.795 + or -0.052 for the {'learning_rate': 0.1, 'max_depth': 9, 'n_estimators': 250}\n",
      "0.798 + or -0.045 for the {'learning_rate': 0.1, 'max_depth': 9, 'n_estimators': 500}\n",
      "0.788 + or -0.041 for the {'learning_rate': 1, 'max_depth': 1, 'n_estimators': 5}\n",
      "0.801 + or -0.049 for the {'learning_rate': 1, 'max_depth': 1, 'n_estimators': 50}\n",
      "0.795 + or -0.056 for the {'learning_rate': 1, 'max_depth': 1, 'n_estimators': 250}\n",
      "0.798 + or -0.054 for the {'learning_rate': 1, 'max_depth': 1, 'n_estimators': 500}\n",
      "0.806 + or -0.048 for the {'learning_rate': 1, 'max_depth': 3, 'n_estimators': 5}\n",
      "0.803 + or -0.05 for the {'learning_rate': 1, 'max_depth': 3, 'n_estimators': 50}\n",
      "0.798 + or -0.056 for the {'learning_rate': 1, 'max_depth': 3, 'n_estimators': 250}\n",
      "0.793 + or -0.057 for the {'learning_rate': 1, 'max_depth': 3, 'n_estimators': 500}\n",
      "0.793 + or -0.047 for the {'learning_rate': 1, 'max_depth': 5, 'n_estimators': 5}\n",
      "0.806 + or -0.053 for the {'learning_rate': 1, 'max_depth': 5, 'n_estimators': 50}\n",
      "0.792 + or -0.062 for the {'learning_rate': 1, 'max_depth': 5, 'n_estimators': 250}\n",
      "0.802 + or -0.049 for the {'learning_rate': 1, 'max_depth': 5, 'n_estimators': 500}\n",
      "0.788 + or -0.038 for the {'learning_rate': 1, 'max_depth': 7, 'n_estimators': 5}\n",
      "0.795 + or -0.04 for the {'learning_rate': 1, 'max_depth': 7, 'n_estimators': 50}\n",
      "0.8 + or -0.06 for the {'learning_rate': 1, 'max_depth': 7, 'n_estimators': 250}\n",
      "0.786 + or -0.048 for the {'learning_rate': 1, 'max_depth': 7, 'n_estimators': 500}\n",
      "0.778 + or -0.043 for the {'learning_rate': 1, 'max_depth': 9, 'n_estimators': 5}\n",
      "0.812 + or -0.044 for the {'learning_rate': 1, 'max_depth': 9, 'n_estimators': 50}\n",
      "0.786 + or -0.057 for the {'learning_rate': 1, 'max_depth': 9, 'n_estimators': 250}\n",
      "0.777 + or -0.045 for the {'learning_rate': 1, 'max_depth': 9, 'n_estimators': 500}\n",
      "0.218 + or -0.042 for the {'learning_rate': 10, 'max_depth': 1, 'n_estimators': 5}\n",
      "0.218 + or -0.042 for the {'learning_rate': 10, 'max_depth': 1, 'n_estimators': 50}\n",
      "0.218 + or -0.042 for the {'learning_rate': 10, 'max_depth': 1, 'n_estimators': 250}\n",
      "0.218 + or -0.042 for the {'learning_rate': 10, 'max_depth': 1, 'n_estimators': 500}\n",
      "0.306 + or -0.109 for the {'learning_rate': 10, 'max_depth': 3, 'n_estimators': 5}\n",
      "0.306 + or -0.109 for the {'learning_rate': 10, 'max_depth': 3, 'n_estimators': 50}\n",
      "0.306 + or -0.109 for the {'learning_rate': 10, 'max_depth': 3, 'n_estimators': 250}\n",
      "0.306 + or -0.109 for the {'learning_rate': 10, 'max_depth': 3, 'n_estimators': 500}\n",
      "0.382 + or -0.052 for the {'learning_rate': 10, 'max_depth': 5, 'n_estimators': 5}\n",
      "0.374 + or -0.075 for the {'learning_rate': 10, 'max_depth': 5, 'n_estimators': 50}\n",
      "0.369 + or -0.07 for the {'learning_rate': 10, 'max_depth': 5, 'n_estimators': 250}\n",
      "0.367 + or -0.076 for the {'learning_rate': 10, 'max_depth': 5, 'n_estimators': 500}\n",
      "0.549 + or -0.11 for the {'learning_rate': 10, 'max_depth': 7, 'n_estimators': 5}\n",
      "0.497 + or -0.069 for the {'learning_rate': 10, 'max_depth': 7, 'n_estimators': 50}\n",
      "0.485 + or -0.078 for the {'learning_rate': 10, 'max_depth': 7, 'n_estimators': 250}\n",
      "0.5 + or -0.054 for the {'learning_rate': 10, 'max_depth': 7, 'n_estimators': 500}\n",
      "0.664 + or -0.053 for the {'learning_rate': 10, 'max_depth': 9, 'n_estimators': 5}\n",
      "0.649 + or -0.065 for the {'learning_rate': 10, 'max_depth': 9, 'n_estimators': 50}\n",
      "0.653 + or -0.108 for the {'learning_rate': 10, 'max_depth': 9, 'n_estimators': 250}\n",
      "0.666 + or -0.075 for the {'learning_rate': 10, 'max_depth': 9, 'n_estimators': 500}\n",
      "0.379 + or -0.002 for the {'learning_rate': 100, 'max_depth': 1, 'n_estimators': 5}\n",
      "0.379 + or -0.002 for the {'learning_rate': 100, 'max_depth': 1, 'n_estimators': 50}\n",
      "0.379 + or -0.002 for the {'learning_rate': 100, 'max_depth': 1, 'n_estimators': 250}\n",
      "0.379 + or -0.002 for the {'learning_rate': 100, 'max_depth': 1, 'n_estimators': 500}\n",
      "0.436 + or -0.087 for the {'learning_rate': 100, 'max_depth': 3, 'n_estimators': 5}\n",
      "0.431 + or -0.09 for the {'learning_rate': 100, 'max_depth': 3, 'n_estimators': 50}\n",
      "0.431 + or -0.09 for the {'learning_rate': 100, 'max_depth': 3, 'n_estimators': 250}\n",
      "0.433 + or -0.088 for the {'learning_rate': 100, 'max_depth': 3, 'n_estimators': 500}\n",
      "0.385 + or -0.077 for the {'learning_rate': 100, 'max_depth': 5, 'n_estimators': 5}\n",
      "0.378 + or -0.077 for the {'learning_rate': 100, 'max_depth': 5, 'n_estimators': 50}\n",
      "0.389 + or -0.094 for the {'learning_rate': 100, 'max_depth': 5, 'n_estimators': 250}\n",
      "0.38 + or -0.08 for the {'learning_rate': 100, 'max_depth': 5, 'n_estimators': 500}\n",
      "0.528 + or -0.083 for the {'learning_rate': 100, 'max_depth': 7, 'n_estimators': 5}\n",
      "0.518 + or -0.096 for the {'learning_rate': 100, 'max_depth': 7, 'n_estimators': 50}\n",
      "0.515 + or -0.086 for the {'learning_rate': 100, 'max_depth': 7, 'n_estimators': 250}\n",
      "0.504 + or -0.076 for the {'learning_rate': 100, 'max_depth': 7, 'n_estimators': 500}\n",
      "0.615 + or -0.085 for the {'learning_rate': 100, 'max_depth': 9, 'n_estimators': 5}\n",
      "0.589 + or -0.085 for the {'learning_rate': 100, 'max_depth': 9, 'n_estimators': 50}\n",
      "0.591 + or -0.076 for the {'learning_rate': 100, 'max_depth': 9, 'n_estimators': 250}\n",
      "0.588 + or -0.067 for the {'learning_rate': 100, 'max_depth': 9, 'n_estimators': 500}\n"
     ]
    }
   ],
   "source": [
    "display(gbc_cv)"
   ]
  },
  {
   "cell_type": "code",
   "execution_count": 47,
   "id": "07746474",
   "metadata": {
    "scrolled": true
   },
   "outputs": [
    {
     "name": "stdout",
     "output_type": "stream",
     "text": [
      "Confusion Matrix:\n",
      "[[99  8]\n",
      " [19 53]]\n",
      "Classification Report\n",
      "              precision    recall  f1-score   support\n",
      "\n",
      "         0.0       0.84      0.93      0.88       107\n",
      "         1.0       0.87      0.74      0.80        72\n",
      "\n",
      "    accuracy                           0.85       179\n",
      "   macro avg       0.85      0.83      0.84       179\n",
      "weighted avg       0.85      0.85      0.85       179\n",
      "\n"
     ]
    }
   ],
   "source": [
    "gbc_predictions = gbc_cv.predict(X_test)\n",
    "\n",
    "print(\"Confusion Matrix:\")\n",
    "print(confusion_matrix(y_test, gbc_predictions))\n",
    "\n",
    "print(\"Classification Report\")\n",
    "print(classification_report(y_test, gbc_predictions))"
   ]
  },
  {
   "cell_type": "markdown",
   "id": "6c396e58",
   "metadata": {},
   "source": [
    "#### CART Algorithm"
   ]
  },
  {
   "cell_type": "code",
   "execution_count": 48,
   "id": "9d46ecc2",
   "metadata": {},
   "outputs": [],
   "source": [
    "cart = DecisionTreeClassifier(random_state=17)"
   ]
  },
  {
   "cell_type": "code",
   "execution_count": 49,
   "id": "39d763c6",
   "metadata": {},
   "outputs": [],
   "source": [
    "cart_parameters = {'max_depth': range(1,11), \n",
    "                   'min_samples_split': range(2,20)}"
   ]
  },
  {
   "cell_type": "code",
   "execution_count": 50,
   "id": "7ce7d57d",
   "metadata": {},
   "outputs": [
    {
     "name": "stdout",
     "output_type": "stream",
     "text": [
      "Fitting 10 folds for each of 180 candidates, totalling 1800 fits\n"
     ]
    }
   ],
   "source": [
    "cart_cv = GridSearchCV(cart, cart_parameters, cv=10, n_jobs=-1, verbose=5).fit(X_train, y_train)"
   ]
  },
  {
   "cell_type": "code",
   "execution_count": 51,
   "id": "4b0bc135",
   "metadata": {},
   "outputs": [
    {
     "name": "stdout",
     "output_type": "stream",
     "text": [
      "Best parameters are: {'max_depth': 7, 'min_samples_split': 14}\n",
      "\n",
      "\n",
      "0.782 + or -0.042 for the {'max_depth': 1, 'min_samples_split': 2}\n",
      "0.782 + or -0.042 for the {'max_depth': 1, 'min_samples_split': 3}\n",
      "0.782 + or -0.042 for the {'max_depth': 1, 'min_samples_split': 4}\n",
      "0.782 + or -0.042 for the {'max_depth': 1, 'min_samples_split': 5}\n",
      "0.782 + or -0.042 for the {'max_depth': 1, 'min_samples_split': 6}\n",
      "0.782 + or -0.042 for the {'max_depth': 1, 'min_samples_split': 7}\n",
      "0.782 + or -0.042 for the {'max_depth': 1, 'min_samples_split': 8}\n",
      "0.782 + or -0.042 for the {'max_depth': 1, 'min_samples_split': 9}\n",
      "0.782 + or -0.042 for the {'max_depth': 1, 'min_samples_split': 10}\n",
      "0.782 + or -0.042 for the {'max_depth': 1, 'min_samples_split': 11}\n",
      "0.782 + or -0.042 for the {'max_depth': 1, 'min_samples_split': 12}\n",
      "0.782 + or -0.042 for the {'max_depth': 1, 'min_samples_split': 13}\n",
      "0.782 + or -0.042 for the {'max_depth': 1, 'min_samples_split': 14}\n",
      "0.782 + or -0.042 for the {'max_depth': 1, 'min_samples_split': 15}\n",
      "0.782 + or -0.042 for the {'max_depth': 1, 'min_samples_split': 16}\n",
      "0.782 + or -0.042 for the {'max_depth': 1, 'min_samples_split': 17}\n",
      "0.782 + or -0.042 for the {'max_depth': 1, 'min_samples_split': 18}\n",
      "0.782 + or -0.042 for the {'max_depth': 1, 'min_samples_split': 19}\n",
      "0.763 + or -0.043 for the {'max_depth': 2, 'min_samples_split': 2}\n",
      "0.763 + or -0.043 for the {'max_depth': 2, 'min_samples_split': 3}\n",
      "0.763 + or -0.043 for the {'max_depth': 2, 'min_samples_split': 4}\n",
      "0.763 + or -0.043 for the {'max_depth': 2, 'min_samples_split': 5}\n",
      "0.763 + or -0.043 for the {'max_depth': 2, 'min_samples_split': 6}\n",
      "0.763 + or -0.043 for the {'max_depth': 2, 'min_samples_split': 7}\n",
      "0.763 + or -0.043 for the {'max_depth': 2, 'min_samples_split': 8}\n",
      "0.763 + or -0.043 for the {'max_depth': 2, 'min_samples_split': 9}\n",
      "0.763 + or -0.043 for the {'max_depth': 2, 'min_samples_split': 10}\n",
      "0.763 + or -0.043 for the {'max_depth': 2, 'min_samples_split': 11}\n",
      "0.763 + or -0.043 for the {'max_depth': 2, 'min_samples_split': 12}\n",
      "0.763 + or -0.043 for the {'max_depth': 2, 'min_samples_split': 13}\n",
      "0.763 + or -0.043 for the {'max_depth': 2, 'min_samples_split': 14}\n",
      "0.763 + or -0.043 for the {'max_depth': 2, 'min_samples_split': 15}\n",
      "0.763 + or -0.043 for the {'max_depth': 2, 'min_samples_split': 16}\n",
      "0.763 + or -0.043 for the {'max_depth': 2, 'min_samples_split': 17}\n",
      "0.763 + or -0.043 for the {'max_depth': 2, 'min_samples_split': 18}\n",
      "0.763 + or -0.043 for the {'max_depth': 2, 'min_samples_split': 19}\n",
      "0.802 + or -0.05 for the {'max_depth': 3, 'min_samples_split': 2}\n",
      "0.802 + or -0.05 for the {'max_depth': 3, 'min_samples_split': 3}\n",
      "0.802 + or -0.05 for the {'max_depth': 3, 'min_samples_split': 4}\n",
      "0.802 + or -0.05 for the {'max_depth': 3, 'min_samples_split': 5}\n",
      "0.802 + or -0.05 for the {'max_depth': 3, 'min_samples_split': 6}\n",
      "0.802 + or -0.05 for the {'max_depth': 3, 'min_samples_split': 7}\n",
      "0.802 + or -0.05 for the {'max_depth': 3, 'min_samples_split': 8}\n",
      "0.802 + or -0.05 for the {'max_depth': 3, 'min_samples_split': 9}\n",
      "0.802 + or -0.05 for the {'max_depth': 3, 'min_samples_split': 10}\n",
      "0.802 + or -0.05 for the {'max_depth': 3, 'min_samples_split': 11}\n",
      "0.802 + or -0.05 for the {'max_depth': 3, 'min_samples_split': 12}\n",
      "0.802 + or -0.05 for the {'max_depth': 3, 'min_samples_split': 13}\n",
      "0.802 + or -0.05 for the {'max_depth': 3, 'min_samples_split': 14}\n",
      "0.802 + or -0.05 for the {'max_depth': 3, 'min_samples_split': 15}\n",
      "0.802 + or -0.05 for the {'max_depth': 3, 'min_samples_split': 16}\n",
      "0.802 + or -0.05 for the {'max_depth': 3, 'min_samples_split': 17}\n",
      "0.802 + or -0.05 for the {'max_depth': 3, 'min_samples_split': 18}\n",
      "0.802 + or -0.05 for the {'max_depth': 3, 'min_samples_split': 19}\n",
      "0.808 + or -0.051 for the {'max_depth': 4, 'min_samples_split': 2}\n",
      "0.808 + or -0.051 for the {'max_depth': 4, 'min_samples_split': 3}\n",
      "0.808 + or -0.051 for the {'max_depth': 4, 'min_samples_split': 4}\n",
      "0.808 + or -0.051 for the {'max_depth': 4, 'min_samples_split': 5}\n",
      "0.808 + or -0.051 for the {'max_depth': 4, 'min_samples_split': 6}\n",
      "0.808 + or -0.051 for the {'max_depth': 4, 'min_samples_split': 7}\n",
      "0.808 + or -0.051 for the {'max_depth': 4, 'min_samples_split': 8}\n",
      "0.808 + or -0.051 for the {'max_depth': 4, 'min_samples_split': 9}\n",
      "0.808 + or -0.051 for the {'max_depth': 4, 'min_samples_split': 10}\n",
      "0.808 + or -0.051 for the {'max_depth': 4, 'min_samples_split': 11}\n",
      "0.808 + or -0.051 for the {'max_depth': 4, 'min_samples_split': 12}\n",
      "0.808 + or -0.051 for the {'max_depth': 4, 'min_samples_split': 13}\n",
      "0.808 + or -0.051 for the {'max_depth': 4, 'min_samples_split': 14}\n",
      "0.808 + or -0.051 for the {'max_depth': 4, 'min_samples_split': 15}\n",
      "0.808 + or -0.051 for the {'max_depth': 4, 'min_samples_split': 16}\n",
      "0.808 + or -0.051 for the {'max_depth': 4, 'min_samples_split': 17}\n",
      "0.805 + or -0.054 for the {'max_depth': 4, 'min_samples_split': 18}\n",
      "0.801 + or -0.056 for the {'max_depth': 4, 'min_samples_split': 19}\n",
      "0.801 + or -0.049 for the {'max_depth': 5, 'min_samples_split': 2}\n",
      "0.801 + or -0.049 for the {'max_depth': 5, 'min_samples_split': 3}\n",
      "0.801 + or -0.049 for the {'max_depth': 5, 'min_samples_split': 4}\n",
      "0.801 + or -0.049 for the {'max_depth': 5, 'min_samples_split': 5}\n",
      "0.801 + or -0.049 for the {'max_depth': 5, 'min_samples_split': 6}\n",
      "0.801 + or -0.049 for the {'max_depth': 5, 'min_samples_split': 7}\n",
      "0.801 + or -0.049 for the {'max_depth': 5, 'min_samples_split': 8}\n",
      "0.801 + or -0.049 for the {'max_depth': 5, 'min_samples_split': 9}\n",
      "0.801 + or -0.049 for the {'max_depth': 5, 'min_samples_split': 10}\n",
      "0.801 + or -0.049 for the {'max_depth': 5, 'min_samples_split': 11}\n",
      "0.801 + or -0.049 for the {'max_depth': 5, 'min_samples_split': 12}\n",
      "0.801 + or -0.049 for the {'max_depth': 5, 'min_samples_split': 13}\n",
      "0.802 + or -0.054 for the {'max_depth': 5, 'min_samples_split': 14}\n",
      "0.802 + or -0.054 for the {'max_depth': 5, 'min_samples_split': 15}\n",
      "0.803 + or -0.052 for the {'max_depth': 5, 'min_samples_split': 16}\n",
      "0.803 + or -0.052 for the {'max_depth': 5, 'min_samples_split': 17}\n",
      "0.801 + or -0.055 for the {'max_depth': 5, 'min_samples_split': 18}\n",
      "0.796 + or -0.057 for the {'max_depth': 5, 'min_samples_split': 19}\n",
      "0.798 + or -0.045 for the {'max_depth': 6, 'min_samples_split': 2}\n",
      "0.799 + or -0.047 for the {'max_depth': 6, 'min_samples_split': 3}\n",
      "0.801 + or -0.046 for the {'max_depth': 6, 'min_samples_split': 4}\n",
      "0.801 + or -0.046 for the {'max_depth': 6, 'min_samples_split': 5}\n",
      "0.801 + or -0.046 for the {'max_depth': 6, 'min_samples_split': 6}\n",
      "0.802 + or -0.047 for the {'max_depth': 6, 'min_samples_split': 7}\n",
      "0.802 + or -0.051 for the {'max_depth': 6, 'min_samples_split': 8}\n",
      "0.806 + or -0.047 for the {'max_depth': 6, 'min_samples_split': 9}\n",
      "0.806 + or -0.047 for the {'max_depth': 6, 'min_samples_split': 10}\n",
      "0.806 + or -0.047 for the {'max_depth': 6, 'min_samples_split': 11}\n",
      "0.806 + or -0.047 for the {'max_depth': 6, 'min_samples_split': 12}\n",
      "0.806 + or -0.047 for the {'max_depth': 6, 'min_samples_split': 13}\n",
      "0.808 + or -0.052 for the {'max_depth': 6, 'min_samples_split': 14}\n",
      "0.806 + or -0.053 for the {'max_depth': 6, 'min_samples_split': 15}\n",
      "0.806 + or -0.05 for the {'max_depth': 6, 'min_samples_split': 16}\n",
      "0.806 + or -0.05 for the {'max_depth': 6, 'min_samples_split': 17}\n",
      "0.803 + or -0.053 for the {'max_depth': 6, 'min_samples_split': 18}\n",
      "0.799 + or -0.055 for the {'max_depth': 6, 'min_samples_split': 19}\n",
      "0.8 + or -0.049 for the {'max_depth': 7, 'min_samples_split': 2}\n",
      "0.8 + or -0.049 for the {'max_depth': 7, 'min_samples_split': 3}\n",
      "0.8 + or -0.049 for the {'max_depth': 7, 'min_samples_split': 4}\n",
      "0.8 + or -0.049 for the {'max_depth': 7, 'min_samples_split': 5}\n",
      "0.799 + or -0.049 for the {'max_depth': 7, 'min_samples_split': 6}\n",
      "0.803 + or -0.049 for the {'max_depth': 7, 'min_samples_split': 7}\n",
      "0.809 + or -0.052 for the {'max_depth': 7, 'min_samples_split': 8}\n",
      "0.812 + or -0.049 for the {'max_depth': 7, 'min_samples_split': 9}\n",
      "0.812 + or -0.049 for the {'max_depth': 7, 'min_samples_split': 10}\n",
      "0.814 + or -0.048 for the {'max_depth': 7, 'min_samples_split': 11}\n",
      "0.817 + or -0.047 for the {'max_depth': 7, 'min_samples_split': 12}\n",
      "0.816 + or -0.049 for the {'max_depth': 7, 'min_samples_split': 13}\n",
      "0.817 + or -0.051 for the {'max_depth': 7, 'min_samples_split': 14}\n",
      "0.816 + or -0.051 for the {'max_depth': 7, 'min_samples_split': 15}\n",
      "0.816 + or -0.048 for the {'max_depth': 7, 'min_samples_split': 16}\n",
      "0.816 + or -0.048 for the {'max_depth': 7, 'min_samples_split': 17}\n",
      "0.813 + or -0.05 for the {'max_depth': 7, 'min_samples_split': 18}\n",
      "0.809 + or -0.052 for the {'max_depth': 7, 'min_samples_split': 19}\n",
      "0.795 + or -0.046 for the {'max_depth': 8, 'min_samples_split': 2}\n",
      "0.789 + or -0.041 for the {'max_depth': 8, 'min_samples_split': 3}\n",
      "0.795 + or -0.045 for the {'max_depth': 8, 'min_samples_split': 4}\n",
      "0.793 + or -0.046 for the {'max_depth': 8, 'min_samples_split': 5}\n",
      "0.792 + or -0.042 for the {'max_depth': 8, 'min_samples_split': 6}\n",
      "0.791 + or -0.044 for the {'max_depth': 8, 'min_samples_split': 7}\n",
      "0.793 + or -0.053 for the {'max_depth': 8, 'min_samples_split': 8}\n",
      "0.799 + or -0.053 for the {'max_depth': 8, 'min_samples_split': 9}\n",
      "0.8 + or -0.054 for the {'max_depth': 8, 'min_samples_split': 10}\n",
      "0.807 + or -0.047 for the {'max_depth': 8, 'min_samples_split': 11}\n",
      "0.81 + or -0.045 for the {'max_depth': 8, 'min_samples_split': 12}\n",
      "0.809 + or -0.047 for the {'max_depth': 8, 'min_samples_split': 13}\n",
      "0.81 + or -0.052 for the {'max_depth': 8, 'min_samples_split': 14}\n",
      "0.812 + or -0.05 for the {'max_depth': 8, 'min_samples_split': 15}\n",
      "0.815 + or -0.05 for the {'max_depth': 8, 'min_samples_split': 16}\n",
      "0.815 + or -0.05 for the {'max_depth': 8, 'min_samples_split': 17}\n",
      "0.812 + or -0.051 for the {'max_depth': 8, 'min_samples_split': 18}\n",
      "0.809 + or -0.053 for the {'max_depth': 8, 'min_samples_split': 19}\n",
      "0.778 + or -0.035 for the {'max_depth': 9, 'min_samples_split': 2}\n",
      "0.772 + or -0.036 for the {'max_depth': 9, 'min_samples_split': 3}\n",
      "0.778 + or -0.039 for the {'max_depth': 9, 'min_samples_split': 4}\n",
      "0.775 + or -0.039 for the {'max_depth': 9, 'min_samples_split': 5}\n",
      "0.778 + or -0.031 for the {'max_depth': 9, 'min_samples_split': 6}\n",
      "0.782 + or -0.034 for the {'max_depth': 9, 'min_samples_split': 7}\n",
      "0.784 + or -0.049 for the {'max_depth': 9, 'min_samples_split': 8}\n",
      "0.788 + or -0.043 for the {'max_depth': 9, 'min_samples_split': 9}\n",
      "0.789 + or -0.044 for the {'max_depth': 9, 'min_samples_split': 10}\n",
      "0.799 + or -0.041 for the {'max_depth': 9, 'min_samples_split': 11}\n",
      "0.802 + or -0.039 for the {'max_depth': 9, 'min_samples_split': 12}\n",
      "0.799 + or -0.04 for the {'max_depth': 9, 'min_samples_split': 13}\n",
      "0.8 + or -0.043 for the {'max_depth': 9, 'min_samples_split': 14}\n",
      "0.801 + or -0.043 for the {'max_depth': 9, 'min_samples_split': 15}\n",
      "0.808 + or -0.04 for the {'max_depth': 9, 'min_samples_split': 16}\n",
      "0.808 + or -0.04 for the {'max_depth': 9, 'min_samples_split': 17}\n",
      "0.805 + or -0.041 for the {'max_depth': 9, 'min_samples_split': 18}\n",
      "0.802 + or -0.043 for the {'max_depth': 9, 'min_samples_split': 19}\n",
      "0.792 + or -0.038 for the {'max_depth': 10, 'min_samples_split': 2}\n",
      "0.788 + or -0.043 for the {'max_depth': 10, 'min_samples_split': 3}\n",
      "0.785 + or -0.047 for the {'max_depth': 10, 'min_samples_split': 4}\n",
      "0.781 + or -0.041 for the {'max_depth': 10, 'min_samples_split': 5}\n",
      "0.788 + or -0.039 for the {'max_depth': 10, 'min_samples_split': 6}\n",
      "0.786 + or -0.039 for the {'max_depth': 10, 'min_samples_split': 7}\n",
      "0.789 + or -0.05 for the {'max_depth': 10, 'min_samples_split': 8}\n",
      "0.791 + or -0.049 for the {'max_depth': 10, 'min_samples_split': 9}\n",
      "0.789 + or -0.048 for the {'max_depth': 10, 'min_samples_split': 10}\n",
      "0.799 + or -0.042 for the {'max_depth': 10, 'min_samples_split': 11}\n",
      "0.802 + or -0.04 for the {'max_depth': 10, 'min_samples_split': 12}\n",
      "0.8 + or -0.043 for the {'max_depth': 10, 'min_samples_split': 13}\n",
      "0.802 + or -0.046 for the {'max_depth': 10, 'min_samples_split': 14}\n",
      "0.802 + or -0.045 for the {'max_depth': 10, 'min_samples_split': 15}\n",
      "0.805 + or -0.043 for the {'max_depth': 10, 'min_samples_split': 16}\n",
      "0.805 + or -0.043 for the {'max_depth': 10, 'min_samples_split': 17}\n",
      "0.802 + or -0.045 for the {'max_depth': 10, 'min_samples_split': 18}\n",
      "0.799 + or -0.046 for the {'max_depth': 10, 'min_samples_split': 19}\n"
     ]
    }
   ],
   "source": [
    "display(cart_cv)"
   ]
  },
  {
   "cell_type": "code",
   "execution_count": 52,
   "id": "5b50fd53",
   "metadata": {
    "scrolled": true
   },
   "outputs": [
    {
     "name": "stdout",
     "output_type": "stream",
     "text": [
      "Confusion Matrix:\n",
      "[[100   7]\n",
      " [ 15  57]]\n",
      "Classification Report\n",
      "              precision    recall  f1-score   support\n",
      "\n",
      "         0.0       0.87      0.93      0.90       107\n",
      "         1.0       0.89      0.79      0.84        72\n",
      "\n",
      "    accuracy                           0.88       179\n",
      "   macro avg       0.88      0.86      0.87       179\n",
      "weighted avg       0.88      0.88      0.88       179\n",
      "\n"
     ]
    }
   ],
   "source": [
    "cart_predictions = cart_cv.predict(X_test)\n",
    "\n",
    "print(\"Confusion Matrix:\")\n",
    "print(confusion_matrix(y_test, cart_predictions))\n",
    "\n",
    "print(\"Classification Report\")\n",
    "print(classification_report(y_test, cart_predictions))"
   ]
  },
  {
   "cell_type": "markdown",
   "id": "3e668ac2",
   "metadata": {},
   "source": [
    "#### Supported Vector Machine Algorithm"
   ]
  },
  {
   "cell_type": "code",
   "execution_count": 53,
   "id": "358c6a29",
   "metadata": {},
   "outputs": [],
   "source": [
    "svc = SVC()"
   ]
  },
  {
   "cell_type": "code",
   "execution_count": 54,
   "id": "89f2d5dc",
   "metadata": {},
   "outputs": [
    {
     "name": "stdout",
     "output_type": "stream",
     "text": [
      "Fitting 5 folds for each of 25 candidates, totalling 125 fits\n",
      "[CV 1/5] END ........C=0.1, gamma=1, kernel=rbf;, score=0.776 total time=   0.0s\n",
      "[CV 2/5] END ........C=0.1, gamma=1, kernel=rbf;, score=0.811 total time=   0.0s\n",
      "[CV 3/5] END ........C=0.1, gamma=1, kernel=rbf;, score=0.718 total time=   0.0s\n",
      "[CV 4/5] END ........C=0.1, gamma=1, kernel=rbf;, score=0.803 total time=   0.0s\n",
      "[CV 5/5] END ........C=0.1, gamma=1, kernel=rbf;, score=0.859 total time=   0.0s\n",
      "[CV 1/5] END ......C=0.1, gamma=0.1, kernel=rbf;, score=0.769 total time=   0.0s\n",
      "[CV 2/5] END ......C=0.1, gamma=0.1, kernel=rbf;, score=0.797 total time=   0.0s\n",
      "[CV 3/5] END ......C=0.1, gamma=0.1, kernel=rbf;, score=0.711 total time=   0.0s\n",
      "[CV 4/5] END ......C=0.1, gamma=0.1, kernel=rbf;, score=0.796 total time=   0.0s\n",
      "[CV 5/5] END ......C=0.1, gamma=0.1, kernel=rbf;, score=0.838 total time=   0.0s\n",
      "[CV 1/5] END .....C=0.1, gamma=0.01, kernel=rbf;, score=0.622 total time=   0.0s\n",
      "[CV 2/5] END .....C=0.1, gamma=0.01, kernel=rbf;, score=0.622 total time=   0.0s\n",
      "[CV 3/5] END .....C=0.1, gamma=0.01, kernel=rbf;, score=0.620 total time=   0.0s\n",
      "[CV 4/5] END .....C=0.1, gamma=0.01, kernel=rbf;, score=0.620 total time=   0.0s\n",
      "[CV 5/5] END .....C=0.1, gamma=0.01, kernel=rbf;, score=0.620 total time=   0.0s\n",
      "[CV 1/5] END ....C=0.1, gamma=0.001, kernel=rbf;, score=0.622 total time=   0.0s\n",
      "[CV 2/5] END ....C=0.1, gamma=0.001, kernel=rbf;, score=0.622 total time=   0.0s\n",
      "[CV 3/5] END ....C=0.1, gamma=0.001, kernel=rbf;, score=0.620 total time=   0.0s\n",
      "[CV 4/5] END ....C=0.1, gamma=0.001, kernel=rbf;, score=0.620 total time=   0.0s\n",
      "[CV 5/5] END ....C=0.1, gamma=0.001, kernel=rbf;, score=0.620 total time=   0.0s\n",
      "[CV 1/5] END ...C=0.1, gamma=0.0001, kernel=rbf;, score=0.622 total time=   0.0s\n",
      "[CV 2/5] END ...C=0.1, gamma=0.0001, kernel=rbf;, score=0.622 total time=   0.0s\n",
      "[CV 3/5] END ...C=0.1, gamma=0.0001, kernel=rbf;, score=0.620 total time=   0.0s\n",
      "[CV 4/5] END ...C=0.1, gamma=0.0001, kernel=rbf;, score=0.620 total time=   0.0s\n",
      "[CV 5/5] END ...C=0.1, gamma=0.0001, kernel=rbf;, score=0.620 total time=   0.0s\n",
      "[CV 1/5] END ..........C=1, gamma=1, kernel=rbf;, score=0.797 total time=   0.0s\n",
      "[CV 2/5] END ..........C=1, gamma=1, kernel=rbf;, score=0.776 total time=   0.0s\n",
      "[CV 3/5] END ..........C=1, gamma=1, kernel=rbf;, score=0.761 total time=   0.0s\n",
      "[CV 4/5] END ..........C=1, gamma=1, kernel=rbf;, score=0.817 total time=   0.0s\n",
      "[CV 5/5] END ..........C=1, gamma=1, kernel=rbf;, score=0.852 total time=   0.0s\n",
      "[CV 1/5] END ........C=1, gamma=0.1, kernel=rbf;, score=0.769 total time=   0.0s\n",
      "[CV 2/5] END ........C=1, gamma=0.1, kernel=rbf;, score=0.797 total time=   0.0s\n",
      "[CV 3/5] END ........C=1, gamma=0.1, kernel=rbf;, score=0.711 total time=   0.0s\n",
      "[CV 4/5] END ........C=1, gamma=0.1, kernel=rbf;, score=0.796 total time=   0.0s\n",
      "[CV 5/5] END ........C=1, gamma=0.1, kernel=rbf;, score=0.838 total time=   0.0s\n",
      "[CV 1/5] END .......C=1, gamma=0.01, kernel=rbf;, score=0.769 total time=   0.0s\n",
      "[CV 2/5] END .......C=1, gamma=0.01, kernel=rbf;, score=0.797 total time=   0.0s\n",
      "[CV 3/5] END .......C=1, gamma=0.01, kernel=rbf;, score=0.711 total time=   0.0s\n",
      "[CV 4/5] END .......C=1, gamma=0.01, kernel=rbf;, score=0.796 total time=   0.0s\n",
      "[CV 5/5] END .......C=1, gamma=0.01, kernel=rbf;, score=0.838 total time=   0.0s\n",
      "[CV 1/5] END ......C=1, gamma=0.001, kernel=rbf;, score=0.622 total time=   0.0s\n",
      "[CV 2/5] END ......C=1, gamma=0.001, kernel=rbf;, score=0.622 total time=   0.0s\n",
      "[CV 3/5] END ......C=1, gamma=0.001, kernel=rbf;, score=0.620 total time=   0.0s\n",
      "[CV 4/5] END ......C=1, gamma=0.001, kernel=rbf;, score=0.620 total time=   0.0s\n",
      "[CV 5/5] END ......C=1, gamma=0.001, kernel=rbf;, score=0.620 total time=   0.0s\n",
      "[CV 1/5] END .....C=1, gamma=0.0001, kernel=rbf;, score=0.622 total time=   0.0s\n",
      "[CV 2/5] END .....C=1, gamma=0.0001, kernel=rbf;, score=0.622 total time=   0.0s\n",
      "[CV 3/5] END .....C=1, gamma=0.0001, kernel=rbf;, score=0.620 total time=   0.0s\n",
      "[CV 4/5] END .....C=1, gamma=0.0001, kernel=rbf;, score=0.620 total time=   0.0s\n",
      "[CV 5/5] END .....C=1, gamma=0.0001, kernel=rbf;, score=0.620 total time=   0.0s\n",
      "[CV 1/5] END .........C=10, gamma=1, kernel=rbf;, score=0.804 total time=   0.0s\n",
      "[CV 2/5] END .........C=10, gamma=1, kernel=rbf;, score=0.790 total time=   0.0s\n",
      "[CV 3/5] END .........C=10, gamma=1, kernel=rbf;, score=0.761 total time=   0.0s\n",
      "[CV 4/5] END .........C=10, gamma=1, kernel=rbf;, score=0.831 total time=   0.0s\n",
      "[CV 5/5] END .........C=10, gamma=1, kernel=rbf;, score=0.845 total time=   0.0s\n",
      "[CV 1/5] END .......C=10, gamma=0.1, kernel=rbf;, score=0.776 total time=   0.0s\n",
      "[CV 2/5] END .......C=10, gamma=0.1, kernel=rbf;, score=0.804 total time=   0.0s\n",
      "[CV 3/5] END .......C=10, gamma=0.1, kernel=rbf;, score=0.739 total time=   0.0s\n",
      "[CV 4/5] END .......C=10, gamma=0.1, kernel=rbf;, score=0.824 total time=   0.0s\n",
      "[CV 5/5] END .......C=10, gamma=0.1, kernel=rbf;, score=0.859 total time=   0.0s\n",
      "[CV 1/5] END ......C=10, gamma=0.01, kernel=rbf;, score=0.769 total time=   0.0s\n",
      "[CV 2/5] END ......C=10, gamma=0.01, kernel=rbf;, score=0.797 total time=   0.0s\n",
      "[CV 3/5] END ......C=10, gamma=0.01, kernel=rbf;, score=0.711 total time=   0.0s\n",
      "[CV 4/5] END ......C=10, gamma=0.01, kernel=rbf;, score=0.796 total time=   0.0s\n",
      "[CV 5/5] END ......C=10, gamma=0.01, kernel=rbf;, score=0.838 total time=   0.0s\n",
      "[CV 1/5] END .....C=10, gamma=0.001, kernel=rbf;, score=0.769 total time=   0.0s\n",
      "[CV 2/5] END .....C=10, gamma=0.001, kernel=rbf;, score=0.797 total time=   0.0s\n",
      "[CV 3/5] END .....C=10, gamma=0.001, kernel=rbf;, score=0.711 total time=   0.0s\n",
      "[CV 4/5] END .....C=10, gamma=0.001, kernel=rbf;, score=0.796 total time=   0.0s\n",
      "[CV 5/5] END .....C=10, gamma=0.001, kernel=rbf;, score=0.838 total time=   0.0s\n",
      "[CV 1/5] END ....C=10, gamma=0.0001, kernel=rbf;, score=0.622 total time=   0.0s\n",
      "[CV 2/5] END ....C=10, gamma=0.0001, kernel=rbf;, score=0.622 total time=   0.0s\n",
      "[CV 3/5] END ....C=10, gamma=0.0001, kernel=rbf;, score=0.620 total time=   0.0s\n",
      "[CV 4/5] END ....C=10, gamma=0.0001, kernel=rbf;, score=0.620 total time=   0.0s\n",
      "[CV 5/5] END ....C=10, gamma=0.0001, kernel=rbf;, score=0.620 total time=   0.0s\n",
      "[CV 1/5] END ........C=100, gamma=1, kernel=rbf;, score=0.804 total time=   0.0s\n",
      "[CV 2/5] END ........C=100, gamma=1, kernel=rbf;, score=0.804 total time=   0.0s\n",
      "[CV 3/5] END ........C=100, gamma=1, kernel=rbf;, score=0.725 total time=   0.0s\n",
      "[CV 4/5] END ........C=100, gamma=1, kernel=rbf;, score=0.845 total time=   0.0s\n",
      "[CV 5/5] END ........C=100, gamma=1, kernel=rbf;, score=0.852 total time=   0.0s\n",
      "[CV 1/5] END ......C=100, gamma=0.1, kernel=rbf;, score=0.783 total time=   0.0s\n",
      "[CV 2/5] END ......C=100, gamma=0.1, kernel=rbf;, score=0.776 total time=   0.0s\n",
      "[CV 3/5] END ......C=100, gamma=0.1, kernel=rbf;, score=0.768 total time=   0.0s\n",
      "[CV 4/5] END ......C=100, gamma=0.1, kernel=rbf;, score=0.817 total time=   0.0s\n",
      "[CV 5/5] END ......C=100, gamma=0.1, kernel=rbf;, score=0.852 total time=   0.0s\n",
      "[CV 1/5] END .....C=100, gamma=0.01, kernel=rbf;, score=0.769 total time=   0.0s\n",
      "[CV 2/5] END .....C=100, gamma=0.01, kernel=rbf;, score=0.811 total time=   0.0s\n",
      "[CV 3/5] END .....C=100, gamma=0.01, kernel=rbf;, score=0.718 total time=   0.0s\n",
      "[CV 4/5] END .....C=100, gamma=0.01, kernel=rbf;, score=0.796 total time=   0.0s\n",
      "[CV 5/5] END .....C=100, gamma=0.01, kernel=rbf;, score=0.852 total time=   0.0s\n",
      "[CV 1/5] END ....C=100, gamma=0.001, kernel=rbf;, score=0.769 total time=   0.0s\n",
      "[CV 2/5] END ....C=100, gamma=0.001, kernel=rbf;, score=0.797 total time=   0.0s\n",
      "[CV 3/5] END ....C=100, gamma=0.001, kernel=rbf;, score=0.711 total time=   0.0s\n",
      "[CV 4/5] END ....C=100, gamma=0.001, kernel=rbf;, score=0.796 total time=   0.0s\n",
      "[CV 5/5] END ....C=100, gamma=0.001, kernel=rbf;, score=0.838 total time=   0.0s\n",
      "[CV 1/5] END ...C=100, gamma=0.0001, kernel=rbf;, score=0.769 total time=   0.0s\n",
      "[CV 2/5] END ...C=100, gamma=0.0001, kernel=rbf;, score=0.797 total time=   0.0s\n",
      "[CV 3/5] END ...C=100, gamma=0.0001, kernel=rbf;, score=0.711 total time=   0.0s\n",
      "[CV 4/5] END ...C=100, gamma=0.0001, kernel=rbf;, score=0.796 total time=   0.0s\n",
      "[CV 5/5] END ...C=100, gamma=0.0001, kernel=rbf;, score=0.838 total time=   0.0s\n",
      "[CV 1/5] END .......C=1000, gamma=1, kernel=rbf;, score=0.804 total time=   0.1s\n"
     ]
    },
    {
     "name": "stdout",
     "output_type": "stream",
     "text": [
      "[CV 2/5] END .......C=1000, gamma=1, kernel=rbf;, score=0.783 total time=   0.2s\n",
      "[CV 3/5] END .......C=1000, gamma=1, kernel=rbf;, score=0.739 total time=   0.1s\n",
      "[CV 4/5] END .......C=1000, gamma=1, kernel=rbf;, score=0.796 total time=   0.1s\n",
      "[CV 5/5] END .......C=1000, gamma=1, kernel=rbf;, score=0.810 total time=   0.1s\n",
      "[CV 1/5] END .....C=1000, gamma=0.1, kernel=rbf;, score=0.804 total time=   0.0s\n",
      "[CV 2/5] END .....C=1000, gamma=0.1, kernel=rbf;, score=0.790 total time=   0.0s\n",
      "[CV 3/5] END .....C=1000, gamma=0.1, kernel=rbf;, score=0.768 total time=   0.0s\n",
      "[CV 4/5] END .....C=1000, gamma=0.1, kernel=rbf;, score=0.817 total time=   0.0s\n",
      "[CV 5/5] END .....C=1000, gamma=0.1, kernel=rbf;, score=0.873 total time=   0.0s\n",
      "[CV 1/5] END ....C=1000, gamma=0.01, kernel=rbf;, score=0.783 total time=   0.0s\n",
      "[CV 2/5] END ....C=1000, gamma=0.01, kernel=rbf;, score=0.811 total time=   0.0s\n",
      "[CV 3/5] END ....C=1000, gamma=0.01, kernel=rbf;, score=0.739 total time=   0.0s\n",
      "[CV 4/5] END ....C=1000, gamma=0.01, kernel=rbf;, score=0.824 total time=   0.0s\n",
      "[CV 5/5] END ....C=1000, gamma=0.01, kernel=rbf;, score=0.859 total time=   0.0s\n",
      "[CV 1/5] END ...C=1000, gamma=0.001, kernel=rbf;, score=0.769 total time=   0.0s\n",
      "[CV 2/5] END ...C=1000, gamma=0.001, kernel=rbf;, score=0.811 total time=   0.0s\n",
      "[CV 3/5] END ...C=1000, gamma=0.001, kernel=rbf;, score=0.711 total time=   0.0s\n",
      "[CV 4/5] END ...C=1000, gamma=0.001, kernel=rbf;, score=0.796 total time=   0.0s\n",
      "[CV 5/5] END ...C=1000, gamma=0.001, kernel=rbf;, score=0.852 total time=   0.0s\n",
      "[CV 1/5] END ..C=1000, gamma=0.0001, kernel=rbf;, score=0.769 total time=   0.0s\n",
      "[CV 2/5] END ..C=1000, gamma=0.0001, kernel=rbf;, score=0.797 total time=   0.0s\n",
      "[CV 3/5] END ..C=1000, gamma=0.0001, kernel=rbf;, score=0.711 total time=   0.0s\n",
      "[CV 4/5] END ..C=1000, gamma=0.0001, kernel=rbf;, score=0.796 total time=   0.0s\n",
      "[CV 5/5] END ..C=1000, gamma=0.0001, kernel=rbf;, score=0.838 total time=   0.0s\n"
     ]
    },
    {
     "data": {
      "text/plain": [
       "GridSearchCV(estimator=SVC(),\n",
       "             param_grid={'C': [0.1, 1, 10, 100, 1000],\n",
       "                         'gamma': [1, 0.1, 0.01, 0.001, 0.0001],\n",
       "                         'kernel': ['rbf']},\n",
       "             verbose=5)"
      ]
     },
     "execution_count": 54,
     "metadata": {},
     "output_type": "execute_result"
    }
   ],
   "source": [
    "# defining parameter range \n",
    "scv_parameters = {'C': [0.1, 1, 10, 100, 1000],  \n",
    "              'gamma': [1, 0.1, 0.01, 0.001, 0.0001], \n",
    "              'kernel': ['rbf']}  \n",
    "\n",
    "svc_cv = GridSearchCV(svc, scv_parameters, refit = True, verbose = 5) \n",
    "  \n",
    "# fitting the model for grid search \n",
    "svc_cv.fit(X_train, y_train) "
   ]
  },
  {
   "cell_type": "code",
   "execution_count": 55,
   "id": "2994e921",
   "metadata": {},
   "outputs": [
    {
     "name": "stdout",
     "output_type": "stream",
     "text": [
      "Best parameters are: {'C': 1000, 'gamma': 0.1, 'kernel': 'rbf'}\n",
      "\n",
      "\n",
      "0.794 + or -0.046 for the {'C': 0.1, 'gamma': 1, 'kernel': 'rbf'}\n",
      "0.782 + or -0.042 for the {'C': 0.1, 'gamma': 0.1, 'kernel': 'rbf'}\n",
      "0.621 + or -0.001 for the {'C': 0.1, 'gamma': 0.01, 'kernel': 'rbf'}\n",
      "0.621 + or -0.001 for the {'C': 0.1, 'gamma': 0.001, 'kernel': 'rbf'}\n",
      "0.621 + or -0.001 for the {'C': 0.1, 'gamma': 0.0001, 'kernel': 'rbf'}\n",
      "0.801 + or -0.032 for the {'C': 1, 'gamma': 1, 'kernel': 'rbf'}\n",
      "0.782 + or -0.042 for the {'C': 1, 'gamma': 0.1, 'kernel': 'rbf'}\n",
      "0.782 + or -0.042 for the {'C': 1, 'gamma': 0.01, 'kernel': 'rbf'}\n",
      "0.621 + or -0.001 for the {'C': 1, 'gamma': 0.001, 'kernel': 'rbf'}\n",
      "0.621 + or -0.001 for the {'C': 1, 'gamma': 0.0001, 'kernel': 'rbf'}\n",
      "0.806 + or -0.03 for the {'C': 10, 'gamma': 1, 'kernel': 'rbf'}\n",
      "0.801 + or -0.041 for the {'C': 10, 'gamma': 0.1, 'kernel': 'rbf'}\n",
      "0.782 + or -0.042 for the {'C': 10, 'gamma': 0.01, 'kernel': 'rbf'}\n",
      "0.782 + or -0.042 for the {'C': 10, 'gamma': 0.001, 'kernel': 'rbf'}\n",
      "0.621 + or -0.001 for the {'C': 10, 'gamma': 0.0001, 'kernel': 'rbf'}\n",
      "0.806 + or -0.045 for the {'C': 100, 'gamma': 1, 'kernel': 'rbf'}\n",
      "0.799 + or -0.031 for the {'C': 100, 'gamma': 0.1, 'kernel': 'rbf'}\n",
      "0.789 + or -0.045 for the {'C': 100, 'gamma': 0.01, 'kernel': 'rbf'}\n",
      "0.782 + or -0.042 for the {'C': 100, 'gamma': 0.001, 'kernel': 'rbf'}\n",
      "0.782 + or -0.042 for the {'C': 100, 'gamma': 0.0001, 'kernel': 'rbf'}\n",
      "0.786 + or -0.025 for the {'C': 1000, 'gamma': 1, 'kernel': 'rbf'}\n",
      "0.81 + or -0.035 for the {'C': 1000, 'gamma': 0.1, 'kernel': 'rbf'}\n",
      "0.803 + or -0.04 for the {'C': 1000, 'gamma': 0.01, 'kernel': 'rbf'}\n",
      "0.788 + or -0.047 for the {'C': 1000, 'gamma': 0.001, 'kernel': 'rbf'}\n",
      "0.782 + or -0.042 for the {'C': 1000, 'gamma': 0.0001, 'kernel': 'rbf'}\n"
     ]
    }
   ],
   "source": [
    "display(svc_cv)"
   ]
  },
  {
   "cell_type": "code",
   "execution_count": 56,
   "id": "f8460f30",
   "metadata": {
    "scrolled": true
   },
   "outputs": [
    {
     "name": "stdout",
     "output_type": "stream",
     "text": [
      "Confusion Matrix:\n",
      "[[99  8]\n",
      " [22 50]]\n",
      "Classification Report\n",
      "              precision    recall  f1-score   support\n",
      "\n",
      "         0.0       0.82      0.93      0.87       107\n",
      "         1.0       0.86      0.69      0.77        72\n",
      "\n",
      "    accuracy                           0.83       179\n",
      "   macro avg       0.84      0.81      0.82       179\n",
      "weighted avg       0.84      0.83      0.83       179\n",
      "\n"
     ]
    }
   ],
   "source": [
    "svc_predictions = svc_cv.predict(X_test)\n",
    "\n",
    "print(\"Confusion Matrix:\")\n",
    "print(confusion_matrix(y_test, svc_predictions))\n",
    "\n",
    "print(\"Classification Report\")\n",
    "print(classification_report(y_test, svc_predictions))"
   ]
  },
  {
   "cell_type": "markdown",
   "id": "842ac8c3",
   "metadata": {},
   "source": [
    "### Final Best Model"
   ]
  },
  {
   "cell_type": "code",
   "execution_count": 57,
   "id": "1e4576b5",
   "metadata": {},
   "outputs": [],
   "source": [
    "final_model = DecisionTreeClassifier(**cart_cv.best_params_).fit(X, y)"
   ]
  },
  {
   "cell_type": "code",
   "execution_count": 58,
   "id": "5c9cc026",
   "metadata": {},
   "outputs": [],
   "source": [
    "final_model_cv = cross_validate(final_model, X,y, cv=20, scoring=[\"accuracy\",\"f1\",\"roc_auc\"])"
   ]
  },
  {
   "cell_type": "code",
   "execution_count": 59,
   "id": "76bd24df",
   "metadata": {
    "scrolled": true
   },
   "outputs": [
    {
     "data": {
      "text/plain": [
       "{'fit_time': array([0.01161218, 0.01011539, 0.00677657, 0.00305367, 0.00406861,\n",
       "        0.00818896, 0.00472784, 0.00873423, 0.00471354, 0.00577855,\n",
       "        0.00620174, 0.00120354, 0.00336409, 0.00509238, 0.        ,\n",
       "        0.00262523, 0.00681639, 0.00055718, 0.0017457 , 0.00564003]),\n",
       " 'score_time': array([0.0176034 , 0.0132525 , 0.00793052, 0.0104754 , 0.00831342,\n",
       "        0.0133636 , 0.00994968, 0.01038241, 0.00502944, 0.00990915,\n",
       "        0.00890541, 0.01502252, 0.01343083, 0.01038742, 0.01638579,\n",
       "        0.01403189, 0.01012707, 0.01456285, 0.01328301, 0.01072359]),\n",
       " 'test_accuracy': array([0.73333333, 0.84444444, 0.84444444, 0.88888889, 0.75555556,\n",
       "        0.73333333, 0.82222222, 0.93333333, 0.91111111, 0.86666667,\n",
       "        0.82222222, 0.81818182, 0.75      , 0.88636364, 0.79545455,\n",
       "        0.77272727, 0.84090909, 0.90909091, 0.81818182, 0.90909091]),\n",
       " 'test_f1': array([0.6       , 0.74074074, 0.75862069, 0.83870968, 0.62068966,\n",
       "        0.6       , 0.77777778, 0.90909091, 0.88235294, 0.8       ,\n",
       "        0.73333333, 0.76470588, 0.62068966, 0.83870968, 0.66666667,\n",
       "        0.66666667, 0.77419355, 0.875     , 0.73333333, 0.88888889]),\n",
       " 'test_roc_auc': array([0.59243697, 0.91701681, 0.79831933, 0.86659664, 0.76365546,\n",
       "        0.70378151, 0.8539916 , 0.9012605 , 0.96218487, 0.84465021,\n",
       "        0.80555556, 0.85076253, 0.73311547, 0.95315904, 0.82135076,\n",
       "        0.86492375, 0.93681917, 0.9204793 , 0.81808279, 0.95098039])}"
      ]
     },
     "execution_count": 59,
     "metadata": {},
     "output_type": "execute_result"
    }
   ],
   "source": [
    "final_model_cv"
   ]
  },
  {
   "cell_type": "code",
   "execution_count": 60,
   "id": "6021ae65",
   "metadata": {},
   "outputs": [
    {
     "data": {
      "text/plain": [
       "0.8327777777777777"
      ]
     },
     "execution_count": 60,
     "metadata": {},
     "output_type": "execute_result"
    }
   ],
   "source": [
    "final_model_cv['test_accuracy'].mean()"
   ]
  },
  {
   "cell_type": "code",
   "execution_count": 61,
   "id": "c23febf2",
   "metadata": {},
   "outputs": [
    {
     "data": {
      "text/plain": [
       "0.7545085021626768"
      ]
     },
     "execution_count": 61,
     "metadata": {},
     "output_type": "execute_result"
    }
   ],
   "source": [
    "final_model_cv[\"test_f1\"].mean()"
   ]
  },
  {
   "cell_type": "code",
   "execution_count": 62,
   "id": "f18adb08",
   "metadata": {
    "scrolled": true
   },
   "outputs": [
    {
     "data": {
      "text/plain": [
       "0.8429561330705122"
      ]
     },
     "execution_count": 62,
     "metadata": {},
     "output_type": "execute_result"
    }
   ],
   "source": [
    "final_model_cv['test_roc_auc'].mean()"
   ]
  },
  {
   "cell_type": "markdown",
   "id": "ab140225",
   "metadata": {},
   "source": [
    "#### ROC AUC Curve"
   ]
  },
  {
   "cell_type": "code",
   "execution_count": 63,
   "id": "139585b9",
   "metadata": {},
   "outputs": [],
   "source": [
    "train_score, test_score = validation_curve(final_model, X_train,y_train, param_name= \"max_depth\", param_range=range(1,11), scoring=\"roc_auc\", cv=10)"
   ]
  },
  {
   "cell_type": "code",
   "execution_count": 64,
   "id": "edb853ce",
   "metadata": {},
   "outputs": [],
   "source": [
    "mean_train_score=np.mean(train_score,axis=1)"
   ]
  },
  {
   "cell_type": "code",
   "execution_count": 65,
   "id": "ead7f4bc",
   "metadata": {},
   "outputs": [],
   "source": [
    "mean_test_score=np.mean(test_score,axis=1)"
   ]
  },
  {
   "cell_type": "code",
   "execution_count": 66,
   "id": "69321e41",
   "metadata": {},
   "outputs": [
    {
     "data": {
      "text/plain": [
       "[<matplotlib.lines.Line2D at 0x2b0566cbe80>]"
      ]
     },
     "execution_count": 66,
     "metadata": {},
     "output_type": "execute_result"
    },
    {
     "data": {
      "image/png": "[encoded data removed]",
      "text/plain": [
       "<Figure size 432x288 with 1 Axes>"
      ]
     },
     "metadata": {
      "needs_background": "light"
     },
     "output_type": "display_data"
    }
   ],
   "source": [
    "plt.plot(range(1,11),mean_train_score,label=\"Training Score\",color='b')"
   ]
  },
  {
   "cell_type": "code",
   "execution_count": 67,
   "id": "cb77606c",
   "metadata": {},
   "outputs": [
    {
     "data": {
      "text/plain": [
       "[<matplotlib.lines.Line2D at 0x2b0565fb550>]"
      ]
     },
     "execution_count": 67,
     "metadata": {},
     "output_type": "execute_result"
    },
    {
     "data": {
      "image/png": "[encoded data removed]",
      "text/plain": [
       "<Figure size 432x288 with 1 Axes>"
      ]
     },
     "metadata": {
      "needs_background": "light"
     },
     "output_type": "display_data"
    }
   ],
   "source": [
    "plt.plot(range(1,11),mean_test_score,label=\"Validation Score\",color='g')"
   ]
  },
  {
   "cell_type": "markdown",
   "id": "395ec98a",
   "metadata": {},
   "source": [
    "### Stacking & Ensemble Learning"
   ]
  },
  {
   "cell_type": "code",
   "execution_count": 68,
   "id": "c489acf5",
   "metadata": {},
   "outputs": [
    {
     "name": "stdout",
     "output_type": "stream",
     "text": [
      "The accuracy score of DecisionTreeClassifier() is: 0.7793818466353677\n",
      "The accuracy score of RandomForestClassifier() is: 0.8075117370892018\n",
      "The accuracy score of KNeighborsClassifier() is: 0.797672143974961\n",
      "The accuracy score of XGBClassifier(base_score=None, booster=None, callbacks=None,\n",
      "              colsample_bylevel=None, colsample_bynode=None,\n",
      "              colsample_bytree=None, device=None, early_stopping_rounds=None,\n",
      "              enable_categorical=False, eval_metric=None, feature_types=None,\n",
      "              gamma=None, grow_policy=None, importance_type=None,\n",
      "              interaction_constraints=None, learning_rate=None, max_bin=None,\n",
      "              max_cat_threshold=None, max_cat_to_onehot=None,\n",
      "              max_delta_step=None, max_depth=None, max_leaves=None,\n",
      "              min_child_weight=None, missing=nan, monotone_constraints=None,\n",
      "              multi_strategy=None, n_estimators=None, n_jobs=None,\n",
      "              num_parallel_tree=None, random_state=None, ...) is: 0.7948943661971831\n"
     ]
    }
   ],
   "source": [
    "dtc =  DecisionTreeClassifier()\n",
    "rfc = RandomForestClassifier()\n",
    "knn =  KNeighborsClassifier()\n",
    "xgb = XGBClassifier()\n",
    "\n",
    "classifications = [dtc,rfc,knn,xgb]\n",
    "\n",
    "for algo in classifications:\n",
    "    score = cross_val_score( algo, X_train, y_train, cv = 10, scoring = 'accuracy')\n",
    "    print(\"The accuracy score of {} is:\".format(algo),score.mean())"
   ]
  },
  {
   "cell_type": "code",
   "execution_count": 69,
   "id": "be9335a3",
   "metadata": {},
   "outputs": [
    {
     "name": "stdout",
     "output_type": "stream",
     "text": [
      "The accuracy score of is: 0.8061228482003131\n"
     ]
    }
   ],
   "source": [
    "classificationres = [('decisiontree',dtc),('randomforest',rfc),('knn',knn),('xgb',xgb)] \n",
    "\n",
    "lr = LogisticRegression()\n",
    "\n",
    "stack_model = StackingClassifier( estimators = classificationres,final_estimator = lr)\n",
    "score = cross_val_score(stack_model, X_train, y_train, cv = 10, scoring = 'accuracy')\n",
    "\n",
    "print(\"The accuracy score is:\",score.mean())"
   ]
  },
  {
   "cell_type": "markdown",
   "id": "bba0dfe8",
   "metadata": {},
   "source": [
    "### Prediction for a New Observation"
   ]
  },
  {
   "cell_type": "code",
   "execution_count": 70,
   "id": "dff7f32e",
   "metadata": {},
   "outputs": [],
   "source": [
    "predictions_cv = final_model.predict(df_test)"
   ]
  },
  {
   "cell_type": "code",
   "execution_count": 71,
   "id": "a553b706",
   "metadata": {
    "scrolled": true
   },
   "outputs": [
    {
     "data": {
      "text/plain": [
       "array([0., 0., 0., 0., 0., 0., 0., 0., 0., 0., 0., 0., 1., 0., 1., 1., 0.,\n",
       "       0., 0., 0., 0., 0., 1., 0., 1., 0., 1., 0., 0., 0., 0., 0., 0., 0.,\n",
       "       0., 0., 0., 0., 0., 0., 0., 0., 0., 1., 1., 0., 0., 0., 1., 0., 0.,\n",
       "       0., 1., 1., 0., 0., 0., 0., 0., 1., 0., 0., 0., 0., 1., 1., 0., 0.,\n",
       "       0., 1., 0., 0., 0., 0., 1., 1., 0., 1., 0., 0., 1., 0., 0., 0., 0.,\n",
       "       0., 0., 0., 0., 1., 0., 0., 1., 0., 0., 0., 1., 0., 0., 0., 1., 0.,\n",
       "       0., 0., 0., 0., 0., 0., 0., 0., 0., 0., 1., 0., 0., 0., 0., 0., 0.,\n",
       "       1., 1., 0., 1., 0., 0., 0., 0., 0., 0., 0., 0., 0., 0., 0., 0., 0.,\n",
       "       0., 0., 0., 0., 0., 1., 0., 0., 0., 0., 0., 0., 0., 0., 1., 0., 0.,\n",
       "       0., 0., 0., 0., 0., 0., 0., 0., 0., 1., 0., 0., 0., 0., 0., 1., 0.,\n",
       "       0., 0., 0., 0., 0., 1., 1., 0., 1., 1., 0., 0., 1., 0., 1., 0., 1.,\n",
       "       0., 0., 0., 0., 0., 0., 0., 0., 0., 1., 0., 0., 0., 0., 1., 0., 1.,\n",
       "       0., 0., 0., 0., 1., 0., 0., 0., 0., 1., 0., 0., 0., 0., 1., 0., 1.,\n",
       "       0., 1., 0., 1., 0., 0., 0., 0., 0., 0., 1., 0., 0., 0., 0., 0., 0.,\n",
       "       1., 1., 1., 1., 0., 0., 0., 0., 1., 0., 1., 0., 1., 0., 0., 0., 0.,\n",
       "       0., 0., 0., 1., 0., 0., 0., 1., 0., 0., 0., 0., 0., 0., 0., 0., 0.,\n",
       "       1., 0., 0., 1., 0., 0., 0., 0., 0., 1., 0., 0., 0., 0., 0., 0., 0.,\n",
       "       0., 0., 0., 0., 0., 0., 0., 1., 0., 0., 0., 0., 0., 0., 0., 0., 1.,\n",
       "       0., 1., 0., 0., 0., 0., 0., 0., 1., 0., 0., 0., 0., 0., 0., 0., 0.,\n",
       "       0., 1., 0., 1., 0., 0., 0., 1., 0., 0., 0., 0., 0., 0., 0., 0., 0.,\n",
       "       0., 0., 0., 1., 0., 0., 0., 0., 0., 1., 1., 0., 0., 0., 0., 0., 1.,\n",
       "       0., 0., 0., 0., 1., 1., 0., 1., 0., 0., 0., 1., 0., 0., 1., 0., 0.,\n",
       "       1., 1., 0., 0., 0., 0., 0., 0., 0., 0., 0., 1., 0., 0., 0., 0., 0.,\n",
       "       1., 0., 0., 0., 1., 0., 1., 0., 0., 1., 0., 1., 0., 0., 0., 0., 1.,\n",
       "       0., 0., 0., 1., 0., 0., 1., 0., 0., 0.])"
      ]
     },
     "execution_count": 71,
     "metadata": {},
     "output_type": "execute_result"
    }
   ],
   "source": [
    "predictions_cv"
   ]
  },
  {
   "cell_type": "markdown",
   "id": "24a05231",
   "metadata": {},
   "source": [
    "### Output"
   ]
  },
  {
   "cell_type": "code",
   "execution_count": 72,
   "id": "c6236a8b",
   "metadata": {},
   "outputs": [
    {
     "name": "stdout",
     "output_type": "stream",
     "text": [
      "Your submission was successfully saved!\n"
     ]
    }
   ],
   "source": [
    "output = pd.DataFrame({'PassengerId': np.array(pd.read_csv('test.csv').PassengerId).astype(int), 'Survived': np.array(predictions_cv).astype(int)})\n",
    "output.to_csv('my_output.csv', index=False)\n",
    "print(\"The submission was successfully saved!\")"
   ]
  },
  {
   "cell_type": "markdown",
   "id": "a80de710",
   "metadata": {},
   "source": [
    "### Score"
   ]
  },
  {
   "cell_type": "code",
   "execution_count": null,
   "id": "d6ba1d09",
   "metadata": {},
   "outputs": [],
   "source": [
    "# The Score is 77.28 % in kaggle submission"
   ]
  }
 ],
 "metadata": {
  "kernelspec": {
   "display_name": "Python 3 (ipykernel)",
   "language": "python",
   "name": "python3"
  },
  "language_info": {
   "codemirror_mode": {
    "name": "ipython",
    "version": 3
   },
   "file_extension": ".py",
   "mimetype": "text/x-python",
   "name": "python",
   "nbconvert_exporter": "python",
   "pygments_lexer": "ipython3",
   "version": "3.9.7"
  }
 },
 "nbformat": 4,
 "nbformat_minor": 5
}
